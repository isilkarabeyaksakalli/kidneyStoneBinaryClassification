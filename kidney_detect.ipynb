{
 "cells": [
  {
   "cell_type": "code",
   "execution_count": 108,
   "metadata": {},
   "outputs": [],
   "source": [
    "#Source: https://github.com/tensorflow/docs/blob/master/site/en/tutorials/load_data/images.ipynb\n",
    "#https://www.tensorflow.org/tutorials/images/classification?hl=en\n",
    "import numpy as np\n",
    "import os\n",
    "import PIL\n",
    "import PIL.Image\n",
    "import matplotlib.pyplot as plt\n",
    "import pandas as pd\n",
    "\n",
    "\n",
    "import sys\n",
    "from PIL import Image\n",
    "sys.modules['Image'] = Image \n",
    "\n",
    "import tensorflow as tf\n",
    "\n",
    "from tensorflow import keras\n",
    "from tensorflow.keras import layers\n",
    "from tensorflow.keras.models import Sequential\n",
    "from keras.preprocessing.image import ImageDataGenerator, array_to_img, img_to_array\n",
    "\n",
    "import pathlib\n"
   ]
  },
  {
   "cell_type": "code",
   "execution_count": 109,
   "metadata": {},
   "outputs": [
    {
     "data": {
      "text/plain": [
       "'2.3.1'"
      ]
     },
     "execution_count": 109,
     "metadata": {},
     "output_type": "execute_result"
    }
   ],
   "source": [
    "tf.__version__"
   ]
  },
  {
   "cell_type": "code",
   "execution_count": 110,
   "metadata": {},
   "outputs": [],
   "source": [
    "# Get current path\n",
    "ROOT_PATH = os.path.abspath('')"
   ]
  },
  {
   "cell_type": "code",
   "execution_count": 111,
   "metadata": {},
   "outputs": [
    {
     "data": {
      "text/plain": [
       "WindowsPath('C:/keras/train')"
      ]
     },
     "execution_count": 111,
     "metadata": {},
     "output_type": "execute_result"
    }
   ],
   "source": [
    "train_dir = pathlib.Path(ROOT_PATH).joinpath(\"train/\")\n",
    "train_dir"
   ]
  },
  {
   "cell_type": "code",
   "execution_count": 112,
   "metadata": {},
   "outputs": [
    {
     "name": "stdout",
     "output_type": "stream",
     "text": [
      "208\n"
     ]
    }
   ],
   "source": [
    "image_count = len(list(train_dir.glob('*/*.jpg')))\n",
    "print(image_count)"
   ]
  },
  {
   "cell_type": "code",
   "execution_count": 113,
   "metadata": {},
   "outputs": [
    {
     "data": {
      "image/png": "[encoded data removed]",
      "text/plain": [
       "<PIL.JpegImagePlugin.JpegImageFile image mode=RGB size=64x80 at 0x19381172FD0>"
      ]
     },
     "execution_count": 113,
     "metadata": {},
     "output_type": "execute_result"
    }
   ],
   "source": [
    "healthy = list(train_dir.glob('healthy/*'))\n",
    "PIL.Image.open(str(healthy[0]))"
   ]
  },
  {
   "cell_type": "code",
   "execution_count": 114,
   "metadata": {},
   "outputs": [
    {
     "data": {
      "image/png": "[encoded data removed]",
      "text/plain": [
       "<PIL.JpegImagePlugin.JpegImageFile image mode=L size=64x80 at 0x193812BDB50>"
      ]
     },
     "execution_count": 114,
     "metadata": {},
     "output_type": "execute_result"
    }
   ],
   "source": [
    "patients = list(train_dir.glob('patient/*'))\n",
    "PIL.Image.open(str(patients[1]))"
   ]
  },
  {
   "cell_type": "code",
   "execution_count": 115,
   "metadata": {},
   "outputs": [
    {
     "data": {
      "text/plain": [
       "WindowsPath('C:/keras/test')"
      ]
     },
     "execution_count": 115,
     "metadata": {},
     "output_type": "execute_result"
    }
   ],
   "source": [
    "test_dir = pathlib.Path(ROOT_PATH).joinpath(\"test/\")\n",
    "test_dir"
   ]
  },
  {
   "cell_type": "code",
   "execution_count": 116,
   "metadata": {},
   "outputs": [
    {
     "data": {
      "image/png": "[encoded data removed]",
      "text/plain": [
       "<PIL.JpegImagePlugin.JpegImageFile image mode=L size=64x80 at 0x193807AF9D0>"
      ]
     },
     "execution_count": 116,
     "metadata": {},
     "output_type": "execute_result"
    }
   ],
   "source": [
    "test_healthy=list(test_dir.glob('healthy/*'))\n",
    "PIL.Image.open(str(test_healthy[0]))"
   ]
  },
  {
   "cell_type": "code",
   "execution_count": 117,
   "metadata": {},
   "outputs": [
    {
     "data": {
      "image/png": "[encoded data removed]",
      "text/plain": [
       "<PIL.JpegImagePlugin.JpegImageFile image mode=RGB size=64x80 at 0x193807AFD90>"
      ]
     },
     "execution_count": 117,
     "metadata": {},
     "output_type": "execute_result"
    }
   ],
   "source": [
    "test_patients = list(test_dir.glob('patient/*'))\n",
    "PIL.Image.open(str(test_patients[1]))"
   ]
  },
  {
   "cell_type": "code",
   "execution_count": 118,
   "metadata": {},
   "outputs": [],
   "source": [
    "batch_size = 32\n",
    "img_height = 80\n",
    "img_width = 64"
   ]
  },
  {
   "cell_type": "code",
   "execution_count": 119,
   "metadata": {},
   "outputs": [
    {
     "name": "stdout",
     "output_type": "stream",
     "text": [
      "Found 167 images belonging to 2 classes.\n",
      "Found 41 images belonging to 2 classes.\n",
      "Found 15 images belonging to 2 classes.\n"
     ]
    }
   ],
   "source": [
    "train_datagen = ImageDataGenerator(rescale=1./255,\n",
    "    shear_range=0.2,\n",
    "    zoom_range=0.2,\n",
    "    horizontal_flip=True,\n",
    "    validation_split=0.2) # set validation split\n",
    "\n",
    "test_datagen=ImageDataGenerator(rescale=1./255)\n",
    "\n",
    "train_generator = train_datagen.flow_from_directory(\n",
    "    train_dir,\n",
    "    target_size=(img_height, img_width),\n",
    "    batch_size=batch_size,\n",
    "    class_mode='binary',\n",
    "    subset='training') # set as training data\n",
    "\n",
    "validation_generator = train_datagen.flow_from_directory(\n",
    "    train_dir, # same directory as training data\n",
    "    target_size=(img_height, img_width),\n",
    "    batch_size=batch_size,\n",
    "    class_mode='binary',\n",
    "    subset='validation') # set as validation data\n",
    "\n",
    "test_generator = test_datagen.flow_from_directory(\n",
    "    test_dir, # same directory as training data\n",
    "    target_size=(img_height, img_width),\n",
    "    batch_size=1,\n",
    "    class_mode='binary',\n",
    "    shuffle=False) # set as test data\n",
    "\n"
   ]
  },
  {
   "cell_type": "code",
   "execution_count": 120,
   "metadata": {},
   "outputs": [],
   "source": [
    "# TEST DIR'DA healthy ve patient diye ayrılmalı"
   ]
  },
  {
   "cell_type": "code",
   "execution_count": 121,
   "metadata": {},
   "outputs": [],
   "source": [
    "#train a model\n",
    "num_classes = 2\n",
    "\n",
    "model = tf.keras.Sequential([\n",
    "  layers.experimental.preprocessing.Rescaling(1./255),\n",
    "  layers.Conv2D(32, 3, activation='relu'),\n",
    "  layers.MaxPooling2D(),\n",
    "  layers.Conv2D(32, 3, activation='relu'),\n",
    "  layers.MaxPooling2D(),\n",
    "  layers.Conv2D(32, 3, activation='relu'),\n",
    "  layers.MaxPooling2D(),\n",
    "  layers.Flatten(),\n",
    "  layers.Dense(128, activation='relu'),\n",
    "  layers.Dense(num_classes)\n",
    "])"
   ]
  },
  {
   "cell_type": "code",
   "execution_count": 122,
   "metadata": {},
   "outputs": [],
   "source": [
    "model.compile(optimizer='adam',\n",
    "              loss=tf.keras.losses.SparseCategoricalCrossentropy(from_logits=True),\n",
    "              metrics=['accuracy'])"
   ]
  },
  {
   "cell_type": "code",
   "execution_count": 143,
   "metadata": {
    "scrolled": true
   },
   "outputs": [
    {
     "name": "stdout",
     "output_type": "stream",
     "text": [
      "Epoch 1/150\n",
      "5/5 [==============================] - 1s 138ms/step - loss: 1.6371e-04 - accuracy: 1.0000 - val_loss: 1.8672 - val_accuracy: 0.8438\n",
      "Epoch 2/150\n",
      "5/5 [==============================] - 1s 123ms/step - loss: 1.7778e-04 - accuracy: 1.0000 - val_loss: 2.6906 - val_accuracy: 0.6875\n",
      "Epoch 3/150\n",
      "5/5 [==============================] - 1s 126ms/step - loss: 2.7218e-04 - accuracy: 1.0000 - val_loss: 2.6607 - val_accuracy: 0.7500\n",
      "Epoch 4/150\n",
      "5/5 [==============================] - 1s 109ms/step - loss: 2.8906e-04 - accuracy: 1.0000 - val_loss: 2.3147 - val_accuracy: 0.7812\n",
      "Epoch 5/150\n",
      "5/5 [==============================] - 1s 113ms/step - loss: 5.1707e-04 - accuracy: 1.0000 - val_loss: 2.4295 - val_accuracy: 0.7188\n",
      "Epoch 6/150\n",
      "5/5 [==============================] - 1s 119ms/step - loss: 3.2519e-04 - accuracy: 1.0000 - val_loss: 3.6777 - val_accuracy: 0.6875\n",
      "Epoch 7/150\n",
      "5/5 [==============================] - 1s 106ms/step - loss: 4.2394e-04 - accuracy: 1.0000 - val_loss: 2.5024 - val_accuracy: 0.6250\n",
      "Epoch 8/150\n",
      "5/5 [==============================] - 1s 104ms/step - loss: 5.6802e-04 - accuracy: 1.0000 - val_loss: 2.5018 - val_accuracy: 0.8125\n",
      "Epoch 9/150\n",
      "5/5 [==============================] - 1s 124ms/step - loss: 4.3195e-04 - accuracy: 1.0000 - val_loss: 3.0615 - val_accuracy: 0.6875\n",
      "Epoch 10/150\n",
      "5/5 [==============================] - 1s 125ms/step - loss: 1.3654e-04 - accuracy: 1.0000 - val_loss: 2.8315 - val_accuracy: 0.7500\n",
      "Epoch 11/150\n",
      "5/5 [==============================] - 1s 122ms/step - loss: 1.4486e-04 - accuracy: 1.0000 - val_loss: 2.6722 - val_accuracy: 0.7500\n",
      "Epoch 12/150\n",
      "5/5 [==============================] - 1s 102ms/step - loss: 1.5075e-04 - accuracy: 1.0000 - val_loss: 2.4849 - val_accuracy: 0.6875\n",
      "Epoch 13/150\n",
      "5/5 [==============================] - 1s 101ms/step - loss: 1.3111e-04 - accuracy: 1.0000 - val_loss: 2.8666 - val_accuracy: 0.7500\n",
      "Epoch 14/150\n",
      "5/5 [==============================] - 1s 108ms/step - loss: 2.6031e-04 - accuracy: 1.0000 - val_loss: 3.2247 - val_accuracy: 0.6875\n",
      "Epoch 15/150\n",
      "5/5 [==============================] - 1s 102ms/step - loss: 3.5007e-04 - accuracy: 1.0000 - val_loss: 2.0201 - val_accuracy: 0.7812\n",
      "Epoch 16/150\n",
      "5/5 [==============================] - 1s 109ms/step - loss: 3.9310e-04 - accuracy: 1.0000 - val_loss: 2.8451 - val_accuracy: 0.7500\n",
      "Epoch 17/150\n",
      "5/5 [==============================] - 1s 104ms/step - loss: 2.5764e-04 - accuracy: 1.0000 - val_loss: 2.0618 - val_accuracy: 0.7500\n",
      "Epoch 18/150\n",
      "5/5 [==============================] - 1s 108ms/step - loss: 0.0020 - accuracy: 1.0000 - val_loss: 1.3823 - val_accuracy: 0.8438\n",
      "Epoch 19/150\n",
      "5/5 [==============================] - 1s 105ms/step - loss: 6.1540e-05 - accuracy: 1.0000 - val_loss: 2.5339 - val_accuracy: 0.8125\n",
      "Epoch 20/150\n",
      "5/5 [==============================] - 1s 102ms/step - loss: 1.7900e-04 - accuracy: 1.0000 - val_loss: 3.3711 - val_accuracy: 0.7500\n",
      "Epoch 21/150\n",
      "5/5 [==============================] - 1s 133ms/step - loss: 1.2485e-04 - accuracy: 1.0000 - val_loss: 2.3576 - val_accuracy: 0.7812\n",
      "Epoch 22/150\n",
      "5/5 [==============================] - 1s 108ms/step - loss: 8.5280e-04 - accuracy: 1.0000 - val_loss: 4.4633 - val_accuracy: 0.6562\n",
      "Epoch 23/150\n",
      "5/5 [==============================] - 1s 110ms/step - loss: 8.9357e-04 - accuracy: 1.0000 - val_loss: 2.3952 - val_accuracy: 0.7500\n",
      "Epoch 24/150\n",
      "5/5 [==============================] - 1s 113ms/step - loss: 4.2043e-04 - accuracy: 1.0000 - val_loss: 1.8798 - val_accuracy: 0.6875\n",
      "Epoch 25/150\n",
      "5/5 [==============================] - 1s 115ms/step - loss: 7.8005e-04 - accuracy: 1.0000 - val_loss: 1.8689 - val_accuracy: 0.7500\n",
      "Epoch 26/150\n",
      "5/5 [==============================] - 1s 118ms/step - loss: 7.5067e-04 - accuracy: 1.0000 - val_loss: 3.0325 - val_accuracy: 0.7812\n",
      "Epoch 27/150\n",
      "5/5 [==============================] - 1s 114ms/step - loss: 2.7224e-04 - accuracy: 1.0000 - val_loss: 2.3479 - val_accuracy: 0.7188\n",
      "Epoch 28/150\n",
      "5/5 [==============================] - 1s 107ms/step - loss: 1.2155e-04 - accuracy: 1.0000 - val_loss: 3.3517 - val_accuracy: 0.6875\n",
      "Epoch 29/150\n",
      "5/5 [==============================] - 1s 130ms/step - loss: 2.1009e-04 - accuracy: 1.0000 - val_loss: 1.3150 - val_accuracy: 0.8125\n",
      "Epoch 30/150\n",
      "5/5 [==============================] - 1s 126ms/step - loss: 1.1783e-04 - accuracy: 1.0000 - val_loss: 3.0796 - val_accuracy: 0.7188\n",
      "Epoch 31/150\n",
      "5/5 [==============================] - 1s 110ms/step - loss: 1.1593e-04 - accuracy: 1.0000 - val_loss: 1.6939 - val_accuracy: 0.7500\n",
      "Epoch 32/150\n",
      "5/5 [==============================] - 1s 109ms/step - loss: 0.0013 - accuracy: 1.0000 - val_loss: 3.9616 - val_accuracy: 0.6875\n",
      "Epoch 33/150\n",
      "5/5 [==============================] - 1s 109ms/step - loss: 1.6545e-04 - accuracy: 1.0000 - val_loss: 3.2997 - val_accuracy: 0.6250\n",
      "Epoch 34/150\n",
      "5/5 [==============================] - 1s 112ms/step - loss: 1.3711e-04 - accuracy: 1.0000 - val_loss: 2.4585 - val_accuracy: 0.7500\n",
      "Epoch 35/150\n",
      "5/5 [==============================] - 1s 114ms/step - loss: 5.2191e-04 - accuracy: 1.0000 - val_loss: 3.4890 - val_accuracy: 0.6875\n",
      "Epoch 36/150\n",
      "5/5 [==============================] - 1s 112ms/step - loss: 4.1112e-04 - accuracy: 1.0000 - val_loss: 3.5565 - val_accuracy: 0.6875\n",
      "Epoch 37/150\n",
      "5/5 [==============================] - 1s 130ms/step - loss: 2.9033e-04 - accuracy: 1.0000 - val_loss: 2.3696 - val_accuracy: 0.7188\n",
      "Epoch 38/150\n",
      "5/5 [==============================] - 1s 105ms/step - loss: 1.6551e-04 - accuracy: 1.0000 - val_loss: 3.5232 - val_accuracy: 0.7500\n",
      "Epoch 39/150\n",
      "5/5 [==============================] - 1s 113ms/step - loss: 1.3899e-04 - accuracy: 1.0000 - val_loss: 2.1267 - val_accuracy: 0.7500\n",
      "Epoch 40/150\n",
      "5/5 [==============================] - 1s 116ms/step - loss: 1.5452e-04 - accuracy: 1.0000 - val_loss: 2.1434 - val_accuracy: 0.7188\n",
      "Epoch 41/150\n",
      "5/5 [==============================] - 1s 109ms/step - loss: 9.4257e-05 - accuracy: 1.0000 - val_loss: 3.2684 - val_accuracy: 0.7812\n",
      "Epoch 42/150\n",
      "5/5 [==============================] - 1s 133ms/step - loss: 1.7297e-04 - accuracy: 1.0000 - val_loss: 2.6838 - val_accuracy: 0.7500\n",
      "Epoch 43/150\n",
      "5/5 [==============================] - 1s 132ms/step - loss: 1.3946e-04 - accuracy: 1.0000 - val_loss: 1.8922 - val_accuracy: 0.7500\n",
      "Epoch 44/150\n",
      "5/5 [==============================] - 1s 118ms/step - loss: 6.7937e-04 - accuracy: 1.0000 - val_loss: 3.2758 - val_accuracy: 0.8125\n",
      "Epoch 45/150\n",
      "5/5 [==============================] - 1s 110ms/step - loss: 3.2172e-04 - accuracy: 1.0000 - val_loss: 3.7584 - val_accuracy: 0.7188\n",
      "Epoch 46/150\n",
      "5/5 [==============================] - 1s 102ms/step - loss: 2.5476e-04 - accuracy: 1.0000 - val_loss: 3.7047 - val_accuracy: 0.7188\n",
      "Epoch 47/150\n",
      "5/5 [==============================] - 1s 105ms/step - loss: 3.2397e-04 - accuracy: 1.0000 - val_loss: 3.3576 - val_accuracy: 0.7500\n",
      "Epoch 48/150\n",
      "5/5 [==============================] - 1s 108ms/step - loss: 0.0014 - accuracy: 1.0000 - val_loss: 2.2823 - val_accuracy: 0.7500\n",
      "Epoch 49/150\n",
      "5/5 [==============================] - 1s 120ms/step - loss: 0.0011 - accuracy: 1.0000 - val_loss: 2.4653 - val_accuracy: 0.7812\n",
      "Epoch 50/150\n",
      "5/5 [==============================] - 1s 111ms/step - loss: 0.0156 - accuracy: 0.9926 - val_loss: 1.9074 - val_accuracy: 0.7812\n",
      "Epoch 51/150\n",
      "5/5 [==============================] - 1s 106ms/step - loss: 0.0016 - accuracy: 1.0000 - val_loss: 2.2918 - val_accuracy: 0.8125\n",
      "Epoch 52/150\n",
      "5/5 [==============================] - 1s 130ms/step - loss: 0.0068 - accuracy: 1.0000 - val_loss: 3.7486 - val_accuracy: 0.7500\n",
      "Epoch 53/150\n",
      "5/5 [==============================] - 1s 119ms/step - loss: 0.0023 - accuracy: 1.0000 - val_loss: 2.2072 - val_accuracy: 0.7500\n",
      "Epoch 54/150\n",
      "5/5 [==============================] - 1s 136ms/step - loss: 0.0112 - accuracy: 0.9926 - val_loss: 1.9047 - val_accuracy: 0.7500\n",
      "Epoch 55/150\n",
      "5/5 [==============================] - 1s 102ms/step - loss: 0.0019 - accuracy: 1.0000 - val_loss: 2.6525 - val_accuracy: 0.7812\n",
      "Epoch 56/150\n",
      "5/5 [==============================] - 1s 110ms/step - loss: 0.0039 - accuracy: 1.0000 - val_loss: 1.3363 - val_accuracy: 0.7812\n",
      "Epoch 57/150\n"
     ]
    },
    {
     "name": "stdout",
     "output_type": "stream",
     "text": [
      "5/5 [==============================] - 1s 109ms/step - loss: 0.0046 - accuracy: 1.0000 - val_loss: 1.5363 - val_accuracy: 0.8125\n",
      "Epoch 58/150\n",
      "5/5 [==============================] - 1s 120ms/step - loss: 8.0910e-04 - accuracy: 1.0000 - val_loss: 1.8188 - val_accuracy: 0.7500\n",
      "Epoch 59/150\n",
      "5/5 [==============================] - 1s 119ms/step - loss: 0.0066 - accuracy: 1.0000 - val_loss: 1.8111 - val_accuracy: 0.7500\n",
      "Epoch 60/150\n",
      "5/5 [==============================] - 1s 121ms/step - loss: 4.3727e-04 - accuracy: 1.0000 - val_loss: 2.1991 - val_accuracy: 0.7812\n",
      "Epoch 61/150\n",
      "5/5 [==============================] - 1s 110ms/step - loss: 0.0020 - accuracy: 1.0000 - val_loss: 2.1877 - val_accuracy: 0.7812\n",
      "Epoch 62/150\n",
      "5/5 [==============================] - 1s 133ms/step - loss: 0.0098 - accuracy: 0.9926 - val_loss: 1.8700 - val_accuracy: 0.8125\n",
      "Epoch 63/150\n",
      "5/5 [==============================] - 1s 113ms/step - loss: 0.0845 - accuracy: 0.9778 - val_loss: 3.0579 - val_accuracy: 0.7188\n",
      "Epoch 64/150\n",
      "5/5 [==============================] - 1s 132ms/step - loss: 0.0903 - accuracy: 0.9704 - val_loss: 3.9741 - val_accuracy: 0.7188\n",
      "Epoch 65/150\n",
      "5/5 [==============================] - 1s 132ms/step - loss: 0.0374 - accuracy: 0.9926 - val_loss: 1.7764 - val_accuracy: 0.7812\n",
      "Epoch 66/150\n",
      "5/5 [==============================] - 1s 103ms/step - loss: 0.0104 - accuracy: 1.0000 - val_loss: 2.2717 - val_accuracy: 0.7500\n",
      "Epoch 67/150\n",
      "5/5 [==============================] - 1s 117ms/step - loss: 0.0589 - accuracy: 0.9875 - val_loss: 3.4310 - val_accuracy: 0.6875\n",
      "Epoch 68/150\n",
      "5/5 [==============================] - 1s 124ms/step - loss: 0.0161 - accuracy: 1.0000 - val_loss: 1.8410 - val_accuracy: 0.7812\n",
      "Epoch 69/150\n",
      "5/5 [==============================] - 1s 124ms/step - loss: 0.0350 - accuracy: 0.9812 - val_loss: 2.8185 - val_accuracy: 0.7500\n",
      "Epoch 70/150\n",
      "5/5 [==============================] - 1s 124ms/step - loss: 0.0275 - accuracy: 0.9937 - val_loss: 2.6473 - val_accuracy: 0.7812\n",
      "Epoch 71/150\n",
      "5/5 [==============================] - 1s 133ms/step - loss: 0.0286 - accuracy: 0.9778 - val_loss: 1.6733 - val_accuracy: 0.8438\n",
      "Epoch 72/150\n",
      "5/5 [==============================] - 1s 112ms/step - loss: 0.0327 - accuracy: 0.9852 - val_loss: 1.8794 - val_accuracy: 0.7500\n",
      "Epoch 73/150\n",
      "5/5 [==============================] - 1s 113ms/step - loss: 0.0096 - accuracy: 1.0000 - val_loss: 2.4606 - val_accuracy: 0.8125\n",
      "Epoch 74/150\n",
      "5/5 [==============================] - 1s 113ms/step - loss: 8.3150e-04 - accuracy: 1.0000 - val_loss: 2.2351 - val_accuracy: 0.8438\n",
      "Epoch 75/150\n",
      "5/5 [==============================] - 1s 130ms/step - loss: 0.0025 - accuracy: 1.0000 - val_loss: 1.6899 - val_accuracy: 0.8438\n",
      "Epoch 76/150\n",
      "5/5 [==============================] - 1s 116ms/step - loss: 0.0041 - accuracy: 1.0000 - val_loss: 2.6123 - val_accuracy: 0.7500\n",
      "Epoch 77/150\n",
      "5/5 [==============================] - 1s 123ms/step - loss: 0.0166 - accuracy: 0.9926 - val_loss: 2.5565 - val_accuracy: 0.6875\n",
      "Epoch 78/150\n",
      "5/5 [==============================] - 1s 115ms/step - loss: 0.0033 - accuracy: 1.0000 - val_loss: 2.2392 - val_accuracy: 0.7500\n",
      "Epoch 79/150\n",
      "5/5 [==============================] - 1s 127ms/step - loss: 0.0029 - accuracy: 1.0000 - val_loss: 2.2547 - val_accuracy: 0.6562\n",
      "Epoch 80/150\n",
      "5/5 [==============================] - 1s 127ms/step - loss: 0.0091 - accuracy: 0.9937 - val_loss: 2.8038 - val_accuracy: 0.7500\n",
      "Epoch 81/150\n",
      "5/5 [==============================] - 1s 126ms/step - loss: 0.0030 - accuracy: 1.0000 - val_loss: 2.1161 - val_accuracy: 0.7500\n",
      "Epoch 82/150\n",
      "5/5 [==============================] - 1s 112ms/step - loss: 0.0058 - accuracy: 1.0000 - val_loss: 1.9328 - val_accuracy: 0.8125\n",
      "Epoch 83/150\n",
      "5/5 [==============================] - 1s 114ms/step - loss: 0.0020 - accuracy: 1.0000 - val_loss: 2.7479 - val_accuracy: 0.8125\n",
      "Epoch 84/150\n",
      "5/5 [==============================] - 1s 111ms/step - loss: 0.0021 - accuracy: 1.0000 - val_loss: 2.9957 - val_accuracy: 0.7812\n",
      "Epoch 85/150\n",
      "5/5 [==============================] - 1s 114ms/step - loss: 0.0038 - accuracy: 1.0000 - val_loss: 1.7195 - val_accuracy: 0.7500\n",
      "Epoch 86/150\n",
      "5/5 [==============================] - 1s 131ms/step - loss: 0.0010 - accuracy: 1.0000 - val_loss: 2.2032 - val_accuracy: 0.8438\n",
      "Epoch 87/150\n",
      "5/5 [==============================] - 1s 117ms/step - loss: 9.2619e-04 - accuracy: 1.0000 - val_loss: 2.9656 - val_accuracy: 0.7500\n",
      "Epoch 88/150\n",
      "5/5 [==============================] - 1s 105ms/step - loss: 8.0722e-04 - accuracy: 1.0000 - val_loss: 3.1165 - val_accuracy: 0.7500\n",
      "Epoch 89/150\n",
      "5/5 [==============================] - 1s 109ms/step - loss: 7.0853e-04 - accuracy: 1.0000 - val_loss: 3.2787 - val_accuracy: 0.7500\n",
      "Epoch 90/150\n",
      "5/5 [==============================] - 1s 114ms/step - loss: 9.2426e-04 - accuracy: 1.0000 - val_loss: 2.0220 - val_accuracy: 0.7500\n",
      "Epoch 91/150\n",
      "5/5 [==============================] - 1s 112ms/step - loss: 4.0211e-04 - accuracy: 1.0000 - val_loss: 3.7563 - val_accuracy: 0.6875\n",
      "Epoch 92/150\n",
      "5/5 [==============================] - 1s 109ms/step - loss: 0.0012 - accuracy: 1.0000 - val_loss: 2.7530 - val_accuracy: 0.7500\n",
      "Epoch 93/150\n",
      "5/5 [==============================] - 1s 126ms/step - loss: 0.0011 - accuracy: 1.0000 - val_loss: 1.5891 - val_accuracy: 0.7812\n",
      "Epoch 94/150\n",
      "5/5 [==============================] - 1s 108ms/step - loss: 0.0063 - accuracy: 1.0000 - val_loss: 1.7448 - val_accuracy: 0.8438\n",
      "Epoch 95/150\n",
      "5/5 [==============================] - 1s 121ms/step - loss: 5.1206e-04 - accuracy: 1.0000 - val_loss: 3.0430 - val_accuracy: 0.7188\n",
      "Epoch 96/150\n",
      "5/5 [==============================] - 1s 110ms/step - loss: 0.0030 - accuracy: 1.0000 - val_loss: 3.6512 - val_accuracy: 0.7188\n",
      "Epoch 97/150\n",
      "5/5 [==============================] - 1s 107ms/step - loss: 0.0011 - accuracy: 1.0000 - val_loss: 2.4829 - val_accuracy: 0.7812\n",
      "Epoch 98/150\n",
      "5/5 [==============================] - 1s 107ms/step - loss: 0.0142 - accuracy: 1.0000 - val_loss: 3.0061 - val_accuracy: 0.7188\n",
      "Epoch 99/150\n",
      "5/5 [==============================] - 1s 100ms/step - loss: 0.0308 - accuracy: 0.9926 - val_loss: 2.2205 - val_accuracy: 0.7188\n",
      "Epoch 100/150\n",
      "5/5 [==============================] - 1s 121ms/step - loss: 0.0092 - accuracy: 0.9937 - val_loss: 3.3395 - val_accuracy: 0.7500\n",
      "Epoch 101/150\n",
      "5/5 [==============================] - 1s 121ms/step - loss: 0.0311 - accuracy: 0.9875 - val_loss: 1.9881 - val_accuracy: 0.8438\n",
      "Epoch 102/150\n",
      "5/5 [==============================] - 1s 122ms/step - loss: 0.0165 - accuracy: 0.9937 - val_loss: 2.3593 - val_accuracy: 0.8750\n",
      "Epoch 103/150\n",
      "5/5 [==============================] - 1s 111ms/step - loss: 0.0071 - accuracy: 1.0000 - val_loss: 1.7029 - val_accuracy: 0.7812\n",
      "Epoch 104/150\n",
      "5/5 [==============================] - 1s 128ms/step - loss: 0.2431 - accuracy: 0.9407 - val_loss: 1.5828 - val_accuracy: 0.8125\n",
      "Epoch 105/150\n",
      "5/5 [==============================] - 1s 126ms/step - loss: 0.1223 - accuracy: 0.9630 - val_loss: 2.6267 - val_accuracy: 0.7812\n",
      "Epoch 106/150\n",
      "5/5 [==============================] - 1s 103ms/step - loss: 0.1770 - accuracy: 0.9407 - val_loss: 1.4815 - val_accuracy: 0.7812\n",
      "Epoch 107/150\n",
      "5/5 [==============================] - 1s 128ms/step - loss: 0.0098 - accuracy: 1.0000 - val_loss: 2.2083 - val_accuracy: 0.7188\n",
      "Epoch 108/150\n",
      "5/5 [==============================] - 1s 106ms/step - loss: 0.1362 - accuracy: 0.9630 - val_loss: 0.4898 - val_accuracy: 0.9062\n",
      "Epoch 109/150\n",
      "5/5 [==============================] - 1s 107ms/step - loss: 0.0770 - accuracy: 0.9778 - val_loss: 1.7686 - val_accuracy: 0.8125\n",
      "Epoch 110/150\n",
      "5/5 [==============================] - 1s 106ms/step - loss: 0.0497 - accuracy: 0.9852 - val_loss: 1.5110 - val_accuracy: 0.7500\n",
      "Epoch 111/150\n",
      "5/5 [==============================] - 1s 106ms/step - loss: 0.0251 - accuracy: 0.9926 - val_loss: 2.5615 - val_accuracy: 0.7812\n",
      "Epoch 112/150\n",
      "5/5 [==============================] - 1s 130ms/step - loss: 0.0087 - accuracy: 1.0000 - val_loss: 2.8989 - val_accuracy: 0.7188\n",
      "Epoch 113/150\n",
      "5/5 [==============================] - 1s 108ms/step - loss: 0.0620 - accuracy: 0.9778 - val_loss: 1.5648 - val_accuracy: 0.7812\n",
      "Epoch 114/150\n"
     ]
    },
    {
     "name": "stdout",
     "output_type": "stream",
     "text": [
      "5/5 [==============================] - 1s 106ms/step - loss: 0.0043 - accuracy: 1.0000 - val_loss: 3.1930 - val_accuracy: 0.7500\n",
      "Epoch 115/150\n",
      "5/5 [==============================] - 1s 106ms/step - loss: 0.0060 - accuracy: 1.0000 - val_loss: 1.3312 - val_accuracy: 0.7500\n",
      "Epoch 116/150\n",
      "5/5 [==============================] - 1s 120ms/step - loss: 0.0126 - accuracy: 0.9937 - val_loss: 1.4921 - val_accuracy: 0.7188\n",
      "Epoch 117/150\n",
      "5/5 [==============================] - 1s 124ms/step - loss: 0.0052 - accuracy: 1.0000 - val_loss: 2.1518 - val_accuracy: 0.6562\n",
      "Epoch 118/150\n",
      "5/5 [==============================] - 1s 105ms/step - loss: 0.0078 - accuracy: 1.0000 - val_loss: 1.3278 - val_accuracy: 0.7812\n",
      "Epoch 119/150\n",
      "5/5 [==============================] - 1s 120ms/step - loss: 0.0049 - accuracy: 1.0000 - val_loss: 2.6893 - val_accuracy: 0.7812\n",
      "Epoch 120/150\n",
      "5/5 [==============================] - 1s 114ms/step - loss: 0.0040 - accuracy: 1.0000 - val_loss: 1.2799 - val_accuracy: 0.7812\n",
      "Epoch 121/150\n",
      "5/5 [==============================] - 1s 120ms/step - loss: 0.0066 - accuracy: 1.0000 - val_loss: 1.1954 - val_accuracy: 0.8438\n",
      "Epoch 122/150\n",
      "5/5 [==============================] - 1s 107ms/step - loss: 0.0031 - accuracy: 1.0000 - val_loss: 2.0460 - val_accuracy: 0.7188\n",
      "Epoch 123/150\n",
      "5/5 [==============================] - 1s 123ms/step - loss: 0.0041 - accuracy: 1.0000 - val_loss: 2.7902 - val_accuracy: 0.6875\n",
      "Epoch 124/150\n",
      "5/5 [==============================] - 1s 119ms/step - loss: 0.0048 - accuracy: 1.0000 - val_loss: 2.4043 - val_accuracy: 0.7500\n",
      "Epoch 125/150\n",
      "5/5 [==============================] - 1s 124ms/step - loss: 0.0010 - accuracy: 1.0000 - val_loss: 3.1355 - val_accuracy: 0.7500\n",
      "Epoch 126/150\n",
      "5/5 [==============================] - 1s 108ms/step - loss: 0.0011 - accuracy: 1.0000 - val_loss: 2.2154 - val_accuracy: 0.7188\n",
      "Epoch 127/150\n",
      "5/5 [==============================] - 1s 106ms/step - loss: 0.0046 - accuracy: 1.0000 - val_loss: 2.1976 - val_accuracy: 0.8125\n",
      "Epoch 128/150\n",
      "5/5 [==============================] - 1s 105ms/step - loss: 0.0021 - accuracy: 1.0000 - val_loss: 2.3050 - val_accuracy: 0.7500\n",
      "Epoch 129/150\n",
      "5/5 [==============================] - 1s 126ms/step - loss: 0.0035 - accuracy: 1.0000 - val_loss: 1.5814 - val_accuracy: 0.8438\n",
      "Epoch 130/150\n",
      "5/5 [==============================] - 1s 120ms/step - loss: 0.0043 - accuracy: 1.0000 - val_loss: 1.5419 - val_accuracy: 0.7812\n",
      "Epoch 131/150\n",
      "5/5 [==============================] - 1s 102ms/step - loss: 0.0018 - accuracy: 1.0000 - val_loss: 3.0408 - val_accuracy: 0.7500\n",
      "Epoch 132/150\n",
      "5/5 [==============================] - 1s 128ms/step - loss: 0.0038 - accuracy: 1.0000 - val_loss: 2.1918 - val_accuracy: 0.7812\n",
      "Epoch 133/150\n",
      "5/5 [==============================] - 1s 123ms/step - loss: 0.0033 - accuracy: 1.0000 - val_loss: 1.7303 - val_accuracy: 0.7812\n",
      "Epoch 134/150\n",
      "5/5 [==============================] - 1s 119ms/step - loss: 0.0016 - accuracy: 1.0000 - val_loss: 2.1901 - val_accuracy: 0.7812\n",
      "Epoch 135/150\n",
      "5/5 [==============================] - 1s 123ms/step - loss: 0.0022 - accuracy: 1.0000 - val_loss: 2.6055 - val_accuracy: 0.7188\n",
      "Epoch 136/150\n",
      "5/5 [==============================] - 1s 108ms/step - loss: 9.0623e-04 - accuracy: 1.0000 - val_loss: 1.5241 - val_accuracy: 0.8125\n",
      "Epoch 137/150\n",
      "5/5 [==============================] - 1s 110ms/step - loss: 0.0023 - accuracy: 1.0000 - val_loss: 2.2389 - val_accuracy: 0.7500\n",
      "Epoch 138/150\n",
      "5/5 [==============================] - 1s 102ms/step - loss: 0.0180 - accuracy: 0.9926 - val_loss: 1.7762 - val_accuracy: 0.7812\n",
      "Epoch 139/150\n",
      "5/5 [==============================] - 1s 108ms/step - loss: 0.0010 - accuracy: 1.0000 - val_loss: 2.6312 - val_accuracy: 0.6562\n",
      "Epoch 140/150\n",
      "5/5 [==============================] - 1s 120ms/step - loss: 0.0103 - accuracy: 0.9937 - val_loss: 2.7446 - val_accuracy: 0.7500\n",
      "Epoch 141/150\n",
      "5/5 [==============================] - 1s 111ms/step - loss: 0.0039 - accuracy: 1.0000 - val_loss: 2.1697 - val_accuracy: 0.7188\n",
      "Epoch 142/150\n",
      "5/5 [==============================] - 1s 100ms/step - loss: 0.0013 - accuracy: 1.0000 - val_loss: 2.0113 - val_accuracy: 0.7500\n",
      "Epoch 143/150\n",
      "5/5 [==============================] - 1s 111ms/step - loss: 0.0023 - accuracy: 1.0000 - val_loss: 1.9429 - val_accuracy: 0.7500\n",
      "Epoch 144/150\n",
      "5/5 [==============================] - 1s 115ms/step - loss: 0.0022 - accuracy: 1.0000 - val_loss: 3.4478 - val_accuracy: 0.7500\n",
      "Epoch 145/150\n",
      "5/5 [==============================] - 1s 137ms/step - loss: 0.0026 - accuracy: 1.0000 - val_loss: 1.8885 - val_accuracy: 0.7812\n",
      "Epoch 146/150\n",
      "5/5 [==============================] - 1s 108ms/step - loss: 5.6176e-04 - accuracy: 1.0000 - val_loss: 2.8779 - val_accuracy: 0.8125\n",
      "Epoch 147/150\n",
      "5/5 [==============================] - 1s 110ms/step - loss: 0.0019 - accuracy: 1.0000 - val_loss: 1.3610 - val_accuracy: 0.8125\n",
      "Epoch 148/150\n",
      "5/5 [==============================] - 1s 115ms/step - loss: 0.0016 - accuracy: 1.0000 - val_loss: 1.9900 - val_accuracy: 0.7500\n",
      "Epoch 149/150\n",
      "5/5 [==============================] - 1s 109ms/step - loss: 0.0029 - accuracy: 1.0000 - val_loss: 2.5573 - val_accuracy: 0.7188\n",
      "Epoch 150/150\n",
      "5/5 [==============================] - 1s 113ms/step - loss: 0.0015 - accuracy: 1.0000 - val_loss: 2.0551 - val_accuracy: 0.7812\n"
     ]
    }
   ],
   "source": [
    "epochs=150\n",
    "history=model.fit_generator(\n",
    "    train_generator,\n",
    "    steps_per_epoch = train_generator.samples // batch_size,\n",
    "    validation_data = validation_generator, \n",
    "    validation_steps = validation_generator.samples // batch_size,\n",
    "    epochs = epochs)"
   ]
  },
  {
   "cell_type": "code",
   "execution_count": 144,
   "metadata": {},
   "outputs": [
    {
     "data": {
      "image/png": "[encoded data removed]",
      "text/plain": [
       "<Figure size 576x576 with 2 Axes>"
      ]
     },
     "metadata": {
      "needs_background": "light"
     },
     "output_type": "display_data"
    }
   ],
   "source": [
    "acc = history.history['accuracy']\n",
    "val_acc = history.history['val_accuracy']\n",
    "\n",
    "loss = history.history['loss']\n",
    "val_loss = history.history['val_loss']\n",
    "\n",
    "epochs_range = range(epochs)\n",
    "\n",
    "plt.figure(figsize=(8, 8))\n",
    "plt.subplot(1, 2, 1)\n",
    "plt.plot(epochs_range, acc, label='Training Accuracy')\n",
    "plt.plot(epochs_range, val_acc, label='Validation Accuracy')\n",
    "plt.legend(loc='lower right')\n",
    "plt.title('Training and Validation Accuracy')\n",
    "\n",
    "plt.subplot(1, 2, 2)\n",
    "plt.plot(epochs_range, loss, label='Training Loss')\n",
    "plt.plot(epochs_range, val_loss, label='Validation Loss')\n",
    "plt.legend(loc='upper right')\n",
    "plt.title('Training and Validation Loss')\n",
    "plt.show()"
   ]
  },
  {
   "cell_type": "code",
   "execution_count": 145,
   "metadata": {},
   "outputs": [
    {
     "name": "stdout",
     "output_type": "stream",
     "text": [
      "15/15 [==============================] - 0s 3ms/step\n",
      "The image 0 most likely belongs to patient with a 99.96 percent confidence.\n",
      "The image 1 most likely belongs to patient with a 100.00 percent confidence.\n",
      "The image 2 most likely belongs to patient with a 100.00 percent confidence.\n",
      "The image 3 most likely belongs to patient with a 100.00 percent confidence.\n",
      "The image 4 most likely belongs to patient with a 99.99 percent confidence.\n",
      "The image 5 most likely belongs to patient with a 100.00 percent confidence.\n",
      "The image 6 most likely belongs to patient with a 100.00 percent confidence.\n",
      "The image 7 most likely belongs to patient with a 100.00 percent confidence.\n",
      "The image 8 most likely belongs to patient with a 100.00 percent confidence.\n",
      "The image 9 most likely belongs to patient with a 99.96 percent confidence.\n",
      "The image 10 most likely belongs to patient with a 100.00 percent confidence.\n",
      "The image 11 most likely belongs to patient with a 87.60 percent confidence.\n",
      "The image 12 most likely belongs to patient with a 99.51 percent confidence.\n",
      "The image 13 most likely belongs to patient with a 99.62 percent confidence.\n",
      "The image 14 most likely belongs to patient with a 86.01 percent confidence.\n",
      "Average confidence: 98.17628184954326\n"
     ]
    }
   ],
   "source": [
    "test_generator.reset()\n",
    "pred=model.predict_generator(test_generator,verbose=1,steps=len(test_generator))\n",
    "predicted_class_indices=np.argmax(pred,axis=1)\n",
    "labels = (train_generator.class_indices)\n",
    "labels = dict((v,k) for k,v in labels.items())\n",
    "predictions = [labels[k] for k in predicted_class_indices]\n",
    "\n",
    "\n",
    "top=0.0\n",
    "ort=0.0\n",
    "for i in range(len(pred)):\n",
    "    score = tf.nn.softmax(pred[i])\n",
    "    max=100 * np.max(score)\n",
    "    print(\"The image {} most likely belongs to {} with a {:.2f} percent confidence.\"\n",
    "    .format(i,predictions[np.argmax(score)],max )\n",
    "    )\n",
    "    top=top+max\n",
    "ort=top/(len(pred))\n",
    "print(\"Average confidence:\",ort)\n"
   ]
  },
  {
   "cell_type": "code",
   "execution_count": 146,
   "metadata": {},
   "outputs": [
    {
     "name": "stdout",
     "output_type": "stream",
     "text": [
      "                                        file       pr\n",
      "0   healthy\\Saltmisdokuz_resized_resized.jpg  patient\n",
      "1    healthy\\Saltmisdort_resized_resized.jpg  patient\n",
      "2      healthy\\Selliyedi_resized_resized.jpg  patient\n",
      "3        healthy\\Skirkuc_resized_resized.jpg  patient\n",
      "4     healthy\\Sotuzsekiz_resized_resized.jpg  patient\n",
      "5         healthy\\Ssekiz_resized_resized.jpg  patient\n",
      "6     patient\\altmisalti_resized_resized.jpg  patient\n",
      "7      patient\\altmisbes_resized_resized.jpg  patient\n",
      "8      patient\\altmisbir_resized_resized.jpg  patient\n",
      "9    patient\\altmisdokuz_resized_resized.jpg  patient\n",
      "10    patient\\altmisdort_resized_resized.jpg  patient\n",
      "11     patient\\altmisiki_resized_resized.jpg  patient\n",
      "12   patient\\altmissekiz_resized_resized.jpg  patient\n",
      "13      patient\\altmisuc_resized_resized.jpg  patient\n",
      "14    patient\\altmisyedi_resized_resized.jpg  patient\n"
     ]
    }
   ],
   "source": [
    "# Get filenames (set shuffle=false in generator is important)\n",
    "filenames=test_generator.filenames\n",
    "# Data frame\n",
    "results=pd.DataFrame({\"file\":filenames,\"pr\":predictions[np.argmax(score)]})\n",
    "print(results)"
   ]
  },
  {
   "cell_type": "code",
   "execution_count": null,
   "metadata": {},
   "outputs": [],
   "source": []
  }
 ],
 "metadata": {
  "kernelspec": {
   "display_name": "Python 3",
   "language": "python",
   "name": "python3"
  },
  "language_info": {
   "codemirror_mode": {
    "name": "ipython",
    "version": 3
   },
   "file_extension": ".py",
   "mimetype": "text/x-python",
   "name": "python",
   "nbconvert_exporter": "python",
   "pygments_lexer": "ipython3",
   "version": "3.8.3"
  }
 },
 "nbformat": 4,
 "nbformat_minor": 4
}
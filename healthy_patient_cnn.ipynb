{
 "cells": [
  {
   "cell_type": "raw",
   "metadata": {},
   "source": [
    "Bu çalışmada oversampling ve undersampling uygulanarak CNN modeli train ve teste tabi tutulmuştur."
   ]
  },
  {
   "cell_type": "code",
   "execution_count": 1,
   "metadata": {},
   "outputs": [],
   "source": [
    "# Undersample and plot imbalanced dataset with the Edited Nearest Neighbor rule\n",
    "from collections import Counter\n",
    "from sklearn.datasets import make_classification\n",
    "from imblearn.under_sampling import RandomUnderSampler, TomekLinks, OneSidedSelection,EditedNearestNeighbours\n",
    "from imblearn.over_sampling import RandomOverSampler, SMOTE\n",
    "from imblearn.combine import SMOTETomek\n",
    "\n",
    "from matplotlib import pyplot\n",
    "from numpy import where\n",
    "import numpy as np\n",
    "from numpy import mean\n",
    "import pandas as pd\n",
    "import itertools\n",
    "import matplotlib.pyplot as plt\n",
    "\n",
    "from keras.models import Sequential\n",
    "from keras.wrappers.scikit_learn import KerasClassifier\n",
    "from sklearn.model_selection import cross_val_score, StratifiedKFold, train_test_split\n",
    "from sklearn import preprocessing\n",
    "from sklearn.metrics import accuracy_score, precision_score, recall_score, f1_score, confusion_matrix\n",
    "\n",
    "from keras.optimizers import RMSprop,Adam\n",
    "from keras.layers import Dense, Dropout, Activation\n",
    "from keras.utils import np_utils\n",
    "\n",
    "from visual_callbacks import AccLossPlotter,  ConfusionMatrixPlotter"
   ]
  },
  {
   "cell_type": "code",
   "execution_count": 2,
   "metadata": {},
   "outputs": [
    {
     "name": "stdout",
     "output_type": "stream",
     "text": [
      "[[7.12608925e-04 1.06891339e-03 1.18768154e-03 ... 1.44897148e-02\n",
      "  1.60337008e-02 1.27081925e-02]\n",
      " [7.80435184e-04 7.80435184e-04 7.80435184e-04 ... 1.33788889e-03\n",
      "  5.57453703e-04 2.22981481e-04]\n",
      " [4.57271592e-04 3.47526410e-03 9.69415775e-03 ... 9.14543184e-05\n",
      "  9.14543184e-05 0.00000000e+00]\n",
      " ...\n",
      " [1.10275826e-02 1.13519233e-02 1.60548629e-02 ... 6.32464298e-03\n",
      "  6.64898364e-03 8.59502763e-03]\n",
      " [3.76171777e-03 4.77448794e-03 5.20853230e-03 ... 7.66811700e-03\n",
      "  6.36598392e-03 5.35321375e-03]\n",
      " [1.16057158e-02 4.15362460e-03 2.07681230e-03 ... 1.77139873e-02\n",
      "  1.78361527e-02 1.79583181e-02]]\n",
      "[0 0 0 0 0 0 0 0 0 0 0 0 0 0 0 0 0 0 0 0 0 0 0 0 0 0 0 0 0 0 0 0 0 0 0 0 0\n",
      " 0 0 1 1 1 1 1 1 1 1 1 1 1 1 1 1 1 1 1 1 1 1 1 1 1 1 1 1 1 1 1 1 1 1 1 1 1\n",
      " 1 1 1 1 1 1 1 1 1 1 1 1 1 1 1 1 1 1 1 1 1 1 1 1 1 1 1 1 1 1 1 1 1 1 1 1 1\n",
      " 1 1 1 1 1 1 1 1 1 1 1 1 1 1 1 1 1 1 1 1 1 1 1 1 1 1 1 1 1 1 1 1 1 1 1 1 1\n",
      " 1 1 1 1 1 1 1 1 1 1 1 1 1 1 1 1 1 1 1 1 1 1 1 1 1 1 1 1 1 1 1 1 1 1 1 1 1\n",
      " 1 1 1 1 1 1 1 1 1 1 1 1 1 1 1 1 1 1 1 1 1 1 1 1 1 1 1 1 1 1 1 1 1 1 1 1]\n",
      "(221, 5120)\n"
     ]
    }
   ],
   "source": [
    "# load dataset\n",
    "dataframe = pd.read_csv(\"KidneyStoneDataset.csv\", header=None)\n",
    "dataset = dataframe.values\n",
    "# split into input (X) and output (Y) variables\n",
    "X = dataset[:,0:5120]\n",
    "Y = dataset[:,5120]\n",
    "#verileri normalize etmesem de sonuç değişmiyor\n",
    "normalized_X = preprocessing.normalize(X) \n",
    "print(normalized_X)\n",
    "print(Y)\n",
    "print(X.shape)"
   ]
  },
  {
   "cell_type": "code",
   "execution_count": 9,
   "metadata": {},
   "outputs": [
    {
     "name": "stdout",
     "output_type": "stream",
     "text": [
      "Counter({1: 182, 0: 39})\n",
      "Counter({1: 182, 0: 54})\n"
     ]
    }
   ],
   "source": [
    "X = np.array(normalized_X) \n",
    "y = np.array(Y)\n",
    "# summarize class distribution\n",
    "counter = Counter(y)\n",
    "print(counter)\n",
    "# define the undersampling method\n",
    "over = SMOTE(sampling_strategy=0.3)\n",
    "#under = RandomUnderSampler(sampling_strategy=0.6)\n",
    "#over=SMOTETomek(tomek=TomekLinks(sampling_strategy='majority'))\n",
    "#over = RandomOverSampler(sampling_strategy=0.3)\n",
    "#undersample = EditedNearestNeighbours(n_neighbors=2)\n",
    "#undersample = OneSidedSelection(n_neighbors=1, n_seeds_S=300)\n",
    "#undersample = TomekLinks()\n",
    "X, y=over.fit_resample(X,y)\n",
    "#X, y = over.fit_resample(X, y)\n",
    "\n",
    "\n",
    "counter = Counter(y)\n",
    "print(counter)"
   ]
  },
  {
   "cell_type": "code",
   "execution_count": 10,
   "metadata": {},
   "outputs": [],
   "source": [
    "model=Sequential()\n",
    "model.add(Dense(32,input_dim=5120))\n",
    "model.add(Dropout(0.2))\n",
    "model.add(Activation('relu'))\n",
    "model.add(Dense(32))\n",
    "model.add(Dropout(0.2))\n",
    "\n",
    "model.add(Activation('relu'))\n",
    "model.add(Dense(64))\n",
    "model.add(Dropout(0.2))\n",
    "model.add(Activation('relu'))\n",
    "model.add(Dense(128))\n",
    "model.add(Dropout(0.2))\n",
    "model.add(Dense(1))\n",
    "model.add(Activation('softmax'))\n",
    "\n",
    "class_names = ['Healthy', 'Patient']\n",
    "#plotter = ConfusionMatrixPlotter(X_val=X_test, classes=class_names, Y_val=y_test)\n",
    "\n",
    "model.compile(optimizer='adam',\n",
    "              loss='categorical_crossentropy',\n",
    "              metrics=['acc'])"
   ]
  },
  {
   "cell_type": "code",
   "execution_count": 11,
   "metadata": {},
   "outputs": [],
   "source": [
    "def plot_confusion_matrix(cm, names,normalize=False, title='Confusion matrix', cmap=plt.cm.Blues):\n",
    "    plt.imshow(cm, interpolation='nearest', cmap=cmap)\n",
    "    plt.title(title)\n",
    "    plt.colorbar()\n",
    "    tick_marks = np.arange(len(names))\n",
    "    plt.xticks(tick_marks, names, rotation=45)\n",
    "    plt.yticks(tick_marks, names)\n",
    "    \n",
    "    fmt = '.2f' if normalize else 'd'\n",
    "    thresh = cm.max() / 2.\n",
    "    for i, j in itertools.product(range(cm.shape[0]), range(cm.shape[1])):\n",
    "        plt.text(j, i, format(cm[i, j], fmt),\n",
    "                 horizontalalignment=\"center\",\n",
    "                 color=\"white\" if cm[i, j] > thresh else \"black\")\n",
    "    \n",
    "    plt.tight_layout()\n",
    "    plt.ylabel('True label')\n",
    "    plt.xlabel('Predicted label')"
   ]
  },
  {
   "cell_type": "code",
   "execution_count": 12,
   "metadata": {},
   "outputs": [
    {
     "name": "stdout",
     "output_type": "stream",
     "text": [
      "Train size:  188\n",
      "Test size:  48\n"
     ]
    }
   ],
   "source": [
    "trainX, testX, trainy, testy = train_test_split(X, y, test_size=0.2, random_state=None)\n",
    "print('Train size:  %d' % len(trainX))\n",
    "print('Test size:  %d'% len(testX))"
   ]
  },
  {
   "cell_type": "code",
   "execution_count": 13,
   "metadata": {},
   "outputs": [
    {
     "name": "stdout",
     "output_type": "stream",
     "text": [
      "train (%) 0.7933333333333333 \t test(%): 0.7894736842105263\n",
      "train (%) 0.8133333333333334 \t test(%): 0.7105263157894737\n",
      "train (%) 0.7933333333333333 \t test(%): 0.7894736842105263\n",
      "train (%) 0.7814569536423841 \t test(%): 0.8378378378378378\n",
      "train (%) 0.7814569536423841 \t test(%): 0.8378378378378378\n",
      "Precision: 0.793\n",
      "Recall: 1.000\n",
      "F1 Score: 0.884\n",
      "Confusion matrix\n",
      "[[  0  39]\n",
      " [  0 149]]\n"
     ]
    },
    {
     "data": {
      "image/png": "[encoded data removed]",
      "text/plain": [
       "<Figure size 432x288 with 2 Axes>"
      ]
     },
     "metadata": {
      "needs_background": "light"
     },
     "output_type": "display_data"
    }
   ],
   "source": [
    "n_splits=5\n",
    "#split sayısı doğruluğu değiştirmiyor.\n",
    "skf = StratifiedKFold(n_splits=n_splits,random_state=42,shuffle=True)\n",
    "cm=0\n",
    "precision=0\n",
    "recall=0\n",
    "f1=0\n",
    "\n",
    "for train_index, test_index in skf.split(trainX, trainy):\n",
    "    # print(f\"train {np.sum(train_index)} \\t test: {np.sum(test_index)}\") #check split index\n",
    "    print(f\"train (%) {np.sum(y[train_index])/len(train_index)} \\t test(%): {np.sum(y[test_index])/len(test_index)}\")\n",
    "    cnn=model.fit(X[train_index,:], y[train_index], \\\n",
    "                  validation_data=(X[test_index,:], \\\n",
    "                  y[test_index]), epochs=100,batch_size=32, verbose=0)\n",
    "    pred=model.predict(X[test_index,:])\n",
    "    precision = precision+ precision_score(y[test_index], pred)\n",
    "    recall = recall+ recall_score(y[test_index], pred)\n",
    "    f1=f1+f1_score(y[test_index],pred)\n",
    "    cm =cm + confusion_matrix(y[test_index], pred)\n",
    "    pred = np.argmax(pred,axis=1)\n",
    "# Compute confusion matrix\n",
    "precision=precision/n_splits\n",
    "print('Precision: %.3f' % precision)\n",
    "recall=recall/n_splits\n",
    "print('Recall: %.3f' % recall)\n",
    "f1=f1/n_splits\n",
    "print('F1 Score: %.3f' % f1)\n",
    "np.set_printoptions(precision=2)\n",
    "print('Confusion matrix')\n",
    "print(cm)\n",
    "plt.figure()\n",
    "plot_confusion_matrix(cm, class_names)"
   ]
  },
  {
   "cell_type": "code",
   "execution_count": 15,
   "metadata": {},
   "outputs": [
    {
     "name": "stdout",
     "output_type": "stream",
     "text": [
      "Precision: 0.792\n",
      "Recall: 1.000\n",
      "F1 Score: 0.884\n",
      "Confusion matrix\n",
      "[[ 0 10]\n",
      " [ 0 38]]\n"
     ]
    },
    {
     "data": {
      "image/png": "[encoded data removed]",
      "text/plain": [
       "<Figure size 432x288 with 2 Axes>"
      ]
     },
     "metadata": {
      "needs_background": "light"
     },
     "output_type": "display_data"
    }
   ],
   "source": [
    "y_pred = model.predict(testX)\n",
    "precision = precision_score(testy, y_pred)\n",
    "print('Precision: %.3f' % precision)\n",
    "recall = recall_score(testy, y_pred)\n",
    "print('Recall: %.3f' % recall)\n",
    "f1=f1_score(testy,y_pred)\n",
    "print('F1 Score: %.3f' % f1)\n",
    "\n",
    "\n",
    "cm = confusion_matrix(testy, y_pred)\n",
    "np.set_printoptions(precision=2)\n",
    "print('Confusion matrix')\n",
    "print(cm)\n",
    "plt.figure()\n",
    "class_names = ['Healthy', 'Patient']\n",
    "plot_confusion_matrix(cm, class_names)"
   ]
  },
  {
   "cell_type": "code",
   "execution_count": null,
   "metadata": {},
   "outputs": [],
   "source": []
  }
 ],
 "metadata": {
  "kernelspec": {
   "display_name": "Python 3",
   "language": "python",
   "name": "python3"
  },
  "language_info": {
   "codemirror_mode": {
    "name": "ipython",
    "version": 3
   },
   "file_extension": ".py",
   "mimetype": "text/x-python",
   "name": "python",
   "nbconvert_exporter": "python",
   "pygments_lexer": "ipython3",
   "version": "3.8.3"
  }
 },
 "nbformat": 4,
 "nbformat_minor": 4
}

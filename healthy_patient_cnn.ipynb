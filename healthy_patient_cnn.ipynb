{
 "cells": [
  {
   "cell_type": "markdown",
   "metadata": {},
   "source": [
    "Bu çalışmada oversampling ve undersampling uygulanarak CNN modeli train ve tese tabi tutulmuştur."
   ]
  },
  {
   "cell_type": "code",
   "execution_count": 52,
   "metadata": {},
   "outputs": [],
   "source": [
    "# Undersample and plot imbalanced dataset with the Edited Nearest Neighbor rule\n",
    "from collections import Counter\n",
    "from sklearn.datasets import make_classification\n",
    "from imblearn.under_sampling import RandomUnderSampler, TomekLinks, OneSidedSelection,EditedNearestNeighbours\n",
    "from imblearn.over_sampling import RandomOverSampler, SMOTE\n",
    "\n",
    "from matplotlib import pyplot\n",
    "from numpy import where\n",
    "import numpy as np\n",
    "from numpy import mean\n",
    "import pandas as pd\n",
    "import itertools\n",
    "import matplotlib.pyplot as plt\n",
    "\n",
    "from keras.models import Sequential\n",
    "from keras.wrappers.scikit_learn import KerasClassifier\n",
    "from sklearn.model_selection import cross_val_score, StratifiedKFold\n",
    "from sklearn import preprocessing\n",
    "from sklearn.metrics import accuracy_score, precision_score, recall_score, f1_score, confusion_matrix\n",
    "\n",
    "from keras.optimizers import RMSprop,Adam\n",
    "from keras.layers import Dense, Dropout, Activation\n",
    "from keras.utils import np_utils\n",
    "\n",
    "from visual_callbacks import AccLossPlotter,  ConfusionMatrixPlotter"
   ]
  },
  {
   "cell_type": "code",
   "execution_count": 53,
   "metadata": {},
   "outputs": [
    {
     "name": "stdout",
     "output_type": "stream",
     "text": [
      "[[7.13e-04 1.07e-03 1.19e-03 ... 1.45e-02 1.60e-02 1.27e-02]\n",
      " [7.80e-04 7.80e-04 7.80e-04 ... 1.34e-03 5.57e-04 2.23e-04]\n",
      " [4.57e-04 3.48e-03 9.69e-03 ... 9.15e-05 9.15e-05 0.00e+00]\n",
      " ...\n",
      " [1.10e-02 1.14e-02 1.61e-02 ... 6.32e-03 6.65e-03 8.60e-03]\n",
      " [3.76e-03 4.77e-03 5.21e-03 ... 7.67e-03 6.37e-03 5.35e-03]\n",
      " [1.16e-02 4.15e-03 2.08e-03 ... 1.77e-02 1.78e-02 1.80e-02]]\n",
      "[0 0 0 0 0 0 0 0 0 0 0 0 0 0 0 0 0 0 0 0 0 0 0 0 0 0 0 0 0 0 0 0 0 0 0 0 0\n",
      " 0 0 1 1 1 1 1 1 1 1 1 1 1 1 1 1 1 1 1 1 1 1 1 1 1 1 1 1 1 1 1 1 1 1 1 1 1\n",
      " 1 1 1 1 1 1 1 1 1 1 1 1 1 1 1 1 1 1 1 1 1 1 1 1 1 1 1 1 1 1 1 1 1 1 1 1 1\n",
      " 1 1 1 1 1 1 1 1 1 1 1 1 1 1 1 1 1 1 1 1 1 1 1 1 1 1 1 1 1 1 1 1 1 1 1 1 1\n",
      " 1 1 1 1 1 1 1 1 1 1 1 1 1 1 1 1 1 1 1 1 1 1 1 1 1 1 1 1 1 1 1 1 1 1 1 1 1\n",
      " 1 1 1 1 1 1 1 1 1 1 1 1 1 1 1 1 1 1 1 1 1 1 1 1 1 1 1 1 1 1 1 1 1 1 1 1]\n",
      "(221, 5120)\n"
     ]
    }
   ],
   "source": [
    "# load dataset\n",
    "dataframe = pd.read_csv(\"KidneyStoneDataset.csv\", header=None)\n",
    "dataset = dataframe.values\n",
    "# split into input (X) and output (Y) variables\n",
    "X = dataset[:,0:5120]\n",
    "Y = dataset[:,5120]\n",
    "#verileri normalize etmesem de sonuç değişmiyor\n",
    "normalized_X = preprocessing.normalize(X) \n",
    "print(normalized_X)\n",
    "print(Y)\n",
    "print(X.shape)"
   ]
  },
  {
   "cell_type": "code",
   "execution_count": 62,
   "metadata": {},
   "outputs": [
    {
     "name": "stdout",
     "output_type": "stream",
     "text": [
      "Counter({1: 182, 0: 39})\n",
      "Counter({1: 182, 0: 173})\n"
     ]
    }
   ],
   "source": [
    "X = np.array(normalized_X) \n",
    "y = np.array(Y)\n",
    "# summarize class distribution\n",
    "counter = Counter(y)\n",
    "print(counter)\n",
    "# define the undersampling method\n",
    "#over = SMOTE(sampling_strategy=0.3)\n",
    "#under = RandomUnderSampler(sampling_strategy=0.6)\n",
    "over=SMOTETomek(tomek=TomekLinks(sampling_strategy='majority'))\n",
    "#over = RandomOverSampler(sampling_strategy=0.3)\n",
    "#undersample = EditedNearestNeighbours(n_neighbors=2)\n",
    "#undersample = OneSidedSelection(n_neighbors=1, n_seeds_S=300)\n",
    "#undersample = TomekLinks()\n",
    "X, y=over.fit_resample(X,y)\n",
    "#X, y = under.fit_resample(X, y)\n",
    "\n",
    "\n",
    "counter = Counter(y)\n",
    "print(counter)"
   ]
  },
  {
   "cell_type": "code",
   "execution_count": 63,
   "metadata": {},
   "outputs": [],
   "source": [
    "model=Sequential()\n",
    "model.add(Dense(32,input_dim=5120))\n",
    "model.add(Dropout(0.2))\n",
    "model.add(Activation('relu'))\n",
    "model.add(Dense(32))\n",
    "model.add(Dropout(0.2))\n",
    "\n",
    "model.add(Activation('relu'))\n",
    "model.add(Dense(64))\n",
    "model.add(Dropout(0.2))\n",
    "model.add(Activation('relu'))\n",
    "model.add(Dense(128))\n",
    "model.add(Dropout(0.2))\n",
    "model.add(Dense(1))\n",
    "model.add(Activation('softmax'))\n",
    "\n",
    "class_names = ['Healthy', 'Patient']\n",
    "#plotter = ConfusionMatrixPlotter(X_val=X_test, classes=class_names, Y_val=y_test)\n",
    "\n",
    "model.compile(optimizer='adam',\n",
    "              loss='categorical_crossentropy',\n",
    "              metrics=['acc'])"
   ]
  },
  {
   "cell_type": "code",
   "execution_count": 64,
   "metadata": {},
   "outputs": [],
   "source": [
    "def plot_confusion_matrix(cm, names,normalize=False, title='Confusion matrix', cmap=plt.cm.Blues):\n",
    "    plt.imshow(cm, interpolation='nearest', cmap=cmap)\n",
    "    plt.title(title)\n",
    "    plt.colorbar()\n",
    "    tick_marks = np.arange(len(names))\n",
    "    plt.xticks(tick_marks, names, rotation=45)\n",
    "    plt.yticks(tick_marks, names)\n",
    "    \n",
    "    fmt = '.2f' if normalize else 'd'\n",
    "    thresh = cm.max() / 2.\n",
    "    for i, j in itertools.product(range(cm.shape[0]), range(cm.shape[1])):\n",
    "        plt.text(j, i, format(cm[i, j], fmt),\n",
    "                 horizontalalignment=\"center\",\n",
    "                 color=\"white\" if cm[i, j] > thresh else \"black\")\n",
    "    \n",
    "    plt.tight_layout()\n",
    "    plt.ylabel('True label')\n",
    "    plt.xlabel('Predicted label')"
   ]
  },
  {
   "cell_type": "code",
   "execution_count": 65,
   "metadata": {},
   "outputs": [
    {
     "name": "stdout",
     "output_type": "stream",
     "text": [
      "train (%) 0.5140845070422535 \t test(%): 0.5070422535211268\n",
      "train (%) 0.5140845070422535 \t test(%): 0.5070422535211268\n",
      "train (%) 0.5140845070422535 \t test(%): 0.5070422535211268\n",
      "train (%) 0.5105633802816901 \t test(%): 0.5211267605633803\n",
      "train (%) 0.5105633802816901 \t test(%): 0.5211267605633803\n",
      "Precision: 0.513\n",
      "Recall: 1.000\n",
      "F1 Score: 0.678\n",
      "Confusion matrix\n",
      "[[  0 173]\n",
      " [  0 182]]\n"
     ]
    },
    {
     "data": {
      "image/png": "[encoded data removed]",
      "text/plain": [
       "<Figure size 432x288 with 2 Axes>"
      ]
     },
     "metadata": {
      "needs_background": "light"
     },
     "output_type": "display_data"
    }
   ],
   "source": [
    "n_splits=5\n",
    "#split sayısı doğruluğu değiştirmiyor.\n",
    "skf = StratifiedKFold(n_splits=n_splits,random_state=42,shuffle=True)\n",
    "skf.get_n_splits(X, y)\n",
    "cm=0\n",
    "precision=0\n",
    "recall=0\n",
    "f1=0\n",
    "for train_index, test_index in skf.split(X, y):\n",
    "    # print(f\"train {np.sum(train_index)} \\t test: {np.sum(test_index)}\") #check split index\n",
    "    print(f\"train (%) {np.sum(y[train_index])/len(train_index)} \\t test(%): {np.sum(y[test_index])/len(test_index)}\")\n",
    "    cnn=model.fit(X[train_index,:], y[train_index], \\\n",
    "                  validation_data=(X[test_index,:], \\\n",
    "                  y[test_index]), epochs=100,batch_size=32, verbose=0)\n",
    "    pred=model.predict(X[test_index,:])\n",
    "    precision = precision+ precision_score(y[test_index], pred)\n",
    "    recall = recall+ recall_score(y[test_index], pred)\n",
    "    f1=f1+f1_score(y[test_index],pred)\n",
    "    cm =cm + confusion_matrix(y[test_index], pred)\n",
    "    pred = np.argmax(pred,axis=1)\n",
    "# Compute confusion matrix\n",
    "precision=precision/n_splits\n",
    "print('Precision: %.3f' % precision)\n",
    "recall=recall/n_splits\n",
    "print('Recall: %.3f' % recall)\n",
    "f1=f1/n_splits\n",
    "print('F1 Score: %.3f' % f1)\n",
    "np.set_printoptions(precision=2)\n",
    "print('Confusion matrix')\n",
    "print(cm)\n",
    "plt.figure()\n",
    "plot_confusion_matrix(cm, class_names)"
   ]
  },
  {
   "cell_type": "code",
   "execution_count": 66,
   "metadata": {},
   "outputs": [
    {
     "name": "stdout",
     "output_type": "stream",
     "text": [
      "Train Accuracy : 0.5127\n",
      "Test Accuracy  : 0.5127\n",
      "Precision: 0.512676\n",
      "Recall: 1.000000\n",
      "F1 score: 0.677812\n"
     ]
    }
   ],
   "source": [
    "train_accuracy=0\n",
    "test_accuracy=0\n",
    "precision=0\n",
    "recall=0\n",
    "f1=0\n",
    "\n",
    "for train_index, test_index in skf.split(X, y):\n",
    "    train_preds = np.where(model.predict(X[train_index,:]) > 0.5, 1, 0)\n",
    "    test_preds = np.where(model.predict(X[test_index,:]) > 0.5, 1, 0)\n",
    "    train_accuracy = train_accuracy+accuracy_score(y[train_index], train_preds)\n",
    "    test_accuracy =test_accuracy+ accuracy_score(y[test_index], test_preds)\n",
    "    precision=precision+precision_score(y[test_index], test_preds)\n",
    "    recall=recall+recall_score(y[test_index], test_preds)\n",
    "    f1=f1+f1_score(y[test_index], test_preds)   \n",
    " \n",
    "avg_train=train_accuracy/n_splits\n",
    "avg_test=test_accuracy/n_splits\n",
    "avg_precision=precision/n_splits\n",
    "avg_recall=recall/n_splits\n",
    "avg_f1=f1/n_splits\n",
    "\n",
    "print(f'Train Accuracy : {avg_train:.4f}')\n",
    "print(f'Test Accuracy  : {avg_test:.4f}')\n",
    "\n",
    "\n",
    "print('Precision: %f' % avg_precision)\n",
    "print('Recall: %f' % avg_recall)\n",
    "print('F1 score: %f' % avg_f1)"
   ]
  },
  {
   "cell_type": "code",
   "execution_count": null,
   "metadata": {},
   "outputs": [],
   "source": []
  }
 ],
 "metadata": {
  "kernelspec": {
   "display_name": "Python 3",
   "language": "python",
   "name": "python3"
  },
  "language_info": {
   "codemirror_mode": {
    "name": "ipython",
    "version": 3
   },
   "file_extension": ".py",
   "mimetype": "text/x-python",
   "name": "python",
   "nbconvert_exporter": "python",
   "pygments_lexer": "ipython3",
   "version": "3.8.3"
  }
 },
 "nbformat": 4,
 "nbformat_minor": 4
}

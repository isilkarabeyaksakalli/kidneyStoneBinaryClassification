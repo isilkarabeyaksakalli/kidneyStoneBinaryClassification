{
 "cells": [
  {
   "cell_type": "code",
   "execution_count": 13,
   "metadata": {},
   "outputs": [],
   "source": [
    "# Binary Classification \n",
    "import numpy as np\n",
    "import pandas as pd\n",
    "import itertools\n",
    "import matplotlib.pyplot as plt\n",
    "\n",
    "from keras.models import Sequential\n",
    "from keras.wrappers.scikit_learn import KerasClassifier\n",
    "from sklearn import svm\n",
    "from sklearn.neural_network import MLPClassifier\n",
    "from sklearn.model_selection import cross_val_score, cross_val_predict, StratifiedKFold, GridSearchCV, train_test_split\n",
    "from sklearn import preprocessing\n",
    "from sklearn.metrics import accuracy_score, precision_score, recall_score, f1_score, confusion_matrix\n",
    "\n",
    "from keras.optimizers import RMSprop,Adam\n",
    "from keras.layers import Dense, Dropout, Activation\n",
    "from keras.utils import np_utils\n",
    "\n",
    "from visual_callbacks import AccLossPlotter,  ConfusionMatrixPlotter\n",
    "from numpy import mean\n",
    "from sklearn.datasets import make_classification\n",
    "from sklearn.naive_bayes import BernoulliNB\n",
    "from sklearn.neighbors import KNeighborsClassifier\n",
    "from sklearn.tree import DecisionTreeClassifier\n",
    "from sklearn.ensemble import RandomForestClassifier\n",
    "from imblearn.combine import SMOTETomek\n",
    "from imblearn.pipeline import Pipeline\n",
    "from imblearn.over_sampling import RandomOverSampler, SMOTE\n",
    "from imblearn.under_sampling import RandomUnderSampler, TomekLinks, NeighbourhoodCleaningRule, OneSidedSelection"
   ]
  },
  {
   "cell_type": "code",
   "execution_count": 14,
   "metadata": {},
   "outputs": [],
   "source": [
    "#plot confisuon matrix metodu\n",
    "def plot_confusion_matrix(cm, names,normalize=False, title='Confusion matrix', cmap=plt.cm.Blues):\n",
    "    plt.imshow(cm, interpolation='nearest', cmap=cmap)\n",
    "    plt.title(title)\n",
    "    plt.colorbar()\n",
    "    tick_marks = np.arange(len(names))\n",
    "    plt.xticks(tick_marks, names, rotation=45)\n",
    "    plt.yticks(tick_marks, names)\n",
    "    \n",
    "    fmt = '.2f' if normalize else 'd'\n",
    "    thresh = cm.max() / 2.\n",
    "    for i, j in itertools.product(range(cm.shape[0]), range(cm.shape[1])):\n",
    "        plt.text(j, i, format(cm[i, j], fmt),\n",
    "                 horizontalalignment=\"center\",\n",
    "                 color=\"white\" if cm[i, j] > thresh else \"black\")\n",
    "    \n",
    "    plt.tight_layout()\n",
    "    plt.ylabel('True label')\n",
    "    plt.xlabel('Predicted label')"
   ]
  },
  {
   "cell_type": "code",
   "execution_count": 15,
   "metadata": {},
   "outputs": [],
   "source": [
    "# load dataset\n",
    "dataframe = pd.read_csv(\"KidneyStoneDataset.csv\", header=None)\n",
    "dataset = dataframe.values\n",
    "# split into input (X) and output (Y) variables\n",
    "X = dataset[:,0:5120]\n",
    "Y = dataset[:,5120]\n",
    "#verileri normalize etmesem de sonuç değişmiyor\n",
    "normalized_X = preprocessing.normalize(X) "
   ]
  },
  {
   "cell_type": "code",
   "execution_count": 16,
   "metadata": {},
   "outputs": [
    {
     "name": "stdout",
     "output_type": "stream",
     "text": [
      "[[7.12608925e-04 1.06891339e-03 1.18768154e-03 ... 1.44897148e-02\n",
      "  1.60337008e-02 1.27081925e-02]\n",
      " [7.80435184e-04 7.80435184e-04 7.80435184e-04 ... 1.33788889e-03\n",
      "  5.57453703e-04 2.22981481e-04]\n",
      " [4.57271592e-04 3.47526410e-03 9.69415775e-03 ... 9.14543184e-05\n",
      "  9.14543184e-05 0.00000000e+00]\n",
      " ...\n",
      " [1.10275826e-02 1.13519233e-02 1.60548629e-02 ... 6.32464298e-03\n",
      "  6.64898364e-03 8.59502763e-03]\n",
      " [3.76171777e-03 4.77448794e-03 5.20853230e-03 ... 7.66811700e-03\n",
      "  6.36598392e-03 5.35321375e-03]\n",
      " [1.16057158e-02 4.15362460e-03 2.07681230e-03 ... 1.77139873e-02\n",
      "  1.78361527e-02 1.79583181e-02]]\n",
      "[0 0 0 0 0 0 0 0 0 0 0 0 0 0 0 0 0 0 0 0 0 0 0 0 0 0 0 0 0 0 0 0 0 0 0 0 0\n",
      " 0 0 1 1 1 1 1 1 1 1 1 1 1 1 1 1 1 1 1 1 1 1 1 1 1 1 1 1 1 1 1 1 1 1 1 1 1\n",
      " 1 1 1 1 1 1 1 1 1 1 1 1 1 1 1 1 1 1 1 1 1 1 1 1 1 1 1 1 1 1 1 1 1 1 1 1 1\n",
      " 1 1 1 1 1 1 1 1 1 1 1 1 1 1 1 1 1 1 1 1 1 1 1 1 1 1 1 1 1 1 1 1 1 1 1 1 1\n",
      " 1 1 1 1 1 1 1 1 1 1 1 1 1 1 1 1 1 1 1 1 1 1 1 1 1 1 1 1 1 1 1 1 1 1 1 1 1\n",
      " 1 1 1 1 1 1 1 1 1 1 1 1 1 1 1 1 1 1 1 1 1 1 1 1 1 1 1 1 1 1 1 1 1 1 1 1]\n"
     ]
    }
   ],
   "source": [
    "print(normalized_X)\n",
    "print(Y)"
   ]
  },
  {
   "cell_type": "code",
   "execution_count": 17,
   "metadata": {},
   "outputs": [
    {
     "data": {
      "text/plain": [
       "221"
      ]
     },
     "execution_count": 17,
     "metadata": {},
     "output_type": "execute_result"
    }
   ],
   "source": [
    "len(X)"
   ]
  },
  {
   "cell_type": "markdown",
   "metadata": {},
   "source": [
    "Verisetinde 221 adet veri bulunmaktadır. Bunlardan 39 tanesi sağlıklı (0 etiketi), 182 tanesi ise hasta (1 etiketi) olarak belirlenmiştir."
   ]
  },
  {
   "cell_type": "code",
   "execution_count": 18,
   "metadata": {},
   "outputs": [],
   "source": [
    "X = np.array(normalized_X) \n",
    "y = np.array(Y)"
   ]
  },
  {
   "cell_type": "code",
   "execution_count": 19,
   "metadata": {},
   "outputs": [],
   "source": [
    "#undersampling-oversampling işlemleri\n",
    "over = SMOTE(sampling_strategy=0.3, random_state=42)\n",
    "#under = RandomUnderSampler(sampling_strategy=0.6)\n",
    "#over=SMOTETomek(tomek=TomekLinks(sampling_strategy='majority'))"
   ]
  },
  {
   "cell_type": "code",
   "execution_count": 20,
   "metadata": {},
   "outputs": [],
   "source": [
    "#gridsearch for decision tree\n",
    "def dtree_grid_search(X,y,nfolds):\n",
    "    #create a dictionary of all values we want to test\n",
    "    #for decision tree\n",
    "    #param_grid = { 'criterion':['gini','entropy'],'max_depth': np.arange(3, 15)} \n",
    "    \n",
    "    #for RANDOM FOREST\n",
    "    #param_grid = {'n_estimators': [200, 500], 'max_features': ['auto', 'sqrt', 'log2'], \n",
    "    #              'max_depth': [4, 5, 6, 7, 8], 'criterion': ['gini', 'entropy']}\n",
    "    \n",
    "    \n",
    "    #FOR SVC\n",
    "    #param_grid = {'C': [0.1, 1, 10, 100, 1000],  \n",
    "    #          'gamma': [1, 0.1, 0.01, 0.001, 0.0001], \n",
    "     #        'kernel': ['rbf']}  \n",
    "    \n",
    "    #FOR MLPClassifier\n",
    "    #param_grid={'solver': ['sgd','adam','lbfgs'],'max_iter': [300,500,700,1000],\n",
    "    #'alpha': [0.0001, 0.05],\n",
    "    #'learning_rate': ['constant','adaptive']}\n",
    " \n",
    "    #knn\n",
    "    #param_grid = {'n_neighbors': [1, 2, 3, 4, 5, 6, 7, 8, 9, 10, 11, 12,\n",
    "     #                                    13, 14, 15, 16, 17, 18, 19, 20, 21, 22,\n",
    "      #                                   23, 24, 25, 26, 27, 28, 29, 30]}\n",
    "   #bayes\n",
    "    #param_grid = {'alpha': [0.01, 0.1, 0.5, 1.0, 10.0],\n",
    "     #    }\n",
    "   # decision tree model\n",
    "   # dtree_model=DecisionTreeClassifier()\n",
    "    #dtree_model=RandomForestClassifier()\n",
    "    #dtree_model=svm.SVC()\n",
    "    #dtree_model=MLPClassifier()\n",
    "    #dtree_model=KNeighborsClassifier()\n",
    "    #dtree_model=BernoulliNB()\n",
    "    #use gridsearch to test all values\n",
    "    dtree_gscv = GridSearchCV(dtree_model, param_grid, cv=nfolds)\n",
    "    #fit model to data\n",
    "    dtree_gscv.fit(X, y)\n",
    "    return dtree_gscv.best_params_"
   ]
  },
  {
   "cell_type": "code",
   "execution_count": 21,
   "metadata": {},
   "outputs": [],
   "source": [
    "#print(dtree_grid_search(X,y,5))"
   ]
  },
  {
   "cell_type": "code",
   "execution_count": 22,
   "metadata": {},
   "outputs": [],
   "source": [
    "#kullanılan algoritmalar ve cv yöntemi\n",
    "\n",
    "modelArray = []\n",
    "modelLabelArray = ['DecisionTreeClassifier','RandomForestClassifier','SVC','MLPClassifier','KNeighborsClassifier','BernoulliNB']\n",
    "\n",
    "modelArray.append(DecisionTreeClassifier(criterion='gini',max_depth=3))\n",
    "modelArray.append(RandomForestClassifier(criterion= 'entropy', max_depth= 4, max_features= 'log2', n_estimators= 200))\n",
    "modelArray.append(svm.SVC(C=0.1, gamma=1, kernel='rbf'))\n",
    "modelArray.append(MLPClassifier(random_state=1, max_iter=300))\n",
    "modelArray.append(KNeighborsClassifier(n_neighbors= 16))\n",
    "modelArray.append(BernoulliNB(alpha= 10.0))\n",
    "\n",
    "stepsArray = []\n",
    "pipelineArray = []\n",
    "for i in range(len(modelArray)):\n",
    "    stepsArray.append([ ('o',over),('m', modelArray[i])])\n",
    "    \n",
    "for j in range(len(stepsArray)):\n",
    "    pipelineArray.append(Pipeline(steps=stepsArray[j]))\n",
    "    \n",
    "\n",
    "# evaluate pipeline\n",
    "n_splits=5\n",
    "#cv = RepeatedStratifiedKFold(n_splits=5, n_repeats=3, random_state=100)\n",
    "cv = StratifiedKFold(n_splits=n_splits,random_state=None,shuffle=True)"
   ]
  },
  {
   "cell_type": "markdown",
   "metadata": {},
   "source": [
    "train test split: %80 train, %20 test"
   ]
  },
  {
   "cell_type": "code",
   "execution_count": 23,
   "metadata": {},
   "outputs": [
    {
     "name": "stdout",
     "output_type": "stream",
     "text": [
      "Train size: 176\n",
      "Test size: 45\n"
     ]
    }
   ],
   "source": [
    "trainX, testX, trainy, testy = train_test_split(X, y, test_size=0.2, random_state=2)\n",
    "# summarize\n",
    "print(\"Train size: %d\" % len(trainX))\n",
    "print(\"Test size: %d\" % len(testX))"
   ]
  },
  {
   "cell_type": "code",
   "execution_count": 24,
   "metadata": {},
   "outputs": [
    {
     "name": "stdout",
     "output_type": "stream",
     "text": [
      "DecisionTreeClassifier Precision: 0.852\n",
      "DecisionTreeClassifier Recall: 0.852\n",
      "DecisionTreeClassifier F1 Score: 0.810\n",
      "RandomForestClassifier Precision: 0.855\n",
      "RandomForestClassifier Recall: 0.855\n",
      "RandomForestClassifier F1 Score: 0.906\n",
      "SVC Precision: 0.858\n",
      "SVC Recall: 0.858\n",
      "SVC F1 Score: 0.924\n",
      "MLPClassifier Precision: 0.860\n",
      "MLPClassifier Recall: 0.860\n",
      "MLPClassifier F1 Score: 0.888\n",
      "KNeighborsClassifier Precision: 0.863\n",
      "KNeighborsClassifier Recall: 0.863\n",
      "KNeighborsClassifier F1 Score: 0.901\n",
      "BernoulliNB Precision: 0.858\n",
      "BernoulliNB Recall: 0.858\n",
      "BernoulliNB F1 Score: 0.924\n"
     ]
    }
   ],
   "source": [
    "accArray=[]\n",
    "recallArray=[]\n",
    "scoreArray=[]\n",
    "\n",
    "for i in range(len(pipelineArray)):\n",
    "    #Cross validation ile Precision, recall ve f1 score değerlerinin hesaplanması\n",
    "    acc = cross_val_score(pipelineArray[i],trainX, trainy, scoring='precision', cv=cv, n_jobs=-1)\n",
    "    acc = mean(acc)\n",
    "    accArray.append(acc)\n",
    "    print(modelLabelArray[i]+' Precision: %.3f' % acc)\n",
    "    recall = cross_val_score(pipelineArray[i], trainX, trainy, scoring='recall', cv=cv, n_jobs=-1)\n",
    "    recall = mean(recall)\n",
    "    recallArray.append(recall)\n",
    "    print(modelLabelArray[i]+' Recall: %.3f' % acc)\n",
    "    scores = cross_val_score(pipelineArray[i],trainX, trainy, scoring='f1', cv=cv, n_jobs=-1)\n",
    "    score = mean(scores)\n",
    "    scoreArray.append(score)\n",
    "    print(modelLabelArray[i]+' F1 Score: %.3f' % score)\n",
    "    \n"
   ]
  },
  {
   "cell_type": "code",
   "execution_count": 25,
   "metadata": {
    "scrolled": false
   },
   "outputs": [
    {
     "name": "stdout",
     "output_type": "stream",
     "text": [
      "DecisionTreeClassifier\n",
      "Precision: 0.759\n",
      "Recall: 0.710\n",
      "F1 Score: 0.733\n",
      "Confusion matrix\n",
      "[[ 7  7]\n",
      " [ 9 22]]\n",
      "RandomForestClassifier\n",
      "Precision: 0.675\n",
      "Recall: 0.871\n",
      "F1 Score: 0.761\n",
      "Confusion matrix\n",
      "[[ 1 13]\n",
      " [ 4 27]]\n",
      "SVC\n",
      "Precision: 0.689\n",
      "Recall: 1.000\n",
      "F1 Score: 0.816\n",
      "Confusion matrix\n",
      "[[ 0 14]\n",
      " [ 0 31]]\n"
     ]
    },
    {
     "name": "stderr",
     "output_type": "stream",
     "text": [
      "/home/sinan/.local/share/virtualenvs/kidneyStoneBinaryClassification-J3AichC0/lib/python3.8/site-packages/sklearn/neural_network/_multilayer_perceptron.py:614: ConvergenceWarning: Stochastic Optimizer: Maximum iterations (300) reached and the optimization hasn't converged yet.\n",
      "  warnings.warn(\n",
      "/home/sinan/.local/share/virtualenvs/kidneyStoneBinaryClassification-J3AichC0/lib/python3.8/site-packages/sklearn/neural_network/_multilayer_perceptron.py:614: ConvergenceWarning: Stochastic Optimizer: Maximum iterations (300) reached and the optimization hasn't converged yet.\n",
      "  warnings.warn(\n",
      "/home/sinan/.local/share/virtualenvs/kidneyStoneBinaryClassification-J3AichC0/lib/python3.8/site-packages/sklearn/neural_network/_multilayer_perceptron.py:614: ConvergenceWarning: Stochastic Optimizer: Maximum iterations (300) reached and the optimization hasn't converged yet.\n",
      "  warnings.warn(\n",
      "/home/sinan/.local/share/virtualenvs/kidneyStoneBinaryClassification-J3AichC0/lib/python3.8/site-packages/sklearn/neural_network/_multilayer_perceptron.py:614: ConvergenceWarning: Stochastic Optimizer: Maximum iterations (300) reached and the optimization hasn't converged yet.\n",
      "  warnings.warn(\n",
      "/home/sinan/.local/share/virtualenvs/kidneyStoneBinaryClassification-J3AichC0/lib/python3.8/site-packages/sklearn/neural_network/_multilayer_perceptron.py:614: ConvergenceWarning: Stochastic Optimizer: Maximum iterations (300) reached and the optimization hasn't converged yet.\n",
      "  warnings.warn(\n"
     ]
    },
    {
     "name": "stdout",
     "output_type": "stream",
     "text": [
      "MLPClassifier\n",
      "Precision: 0.774\n",
      "Recall: 0.774\n",
      "F1 Score: 0.774\n",
      "Confusion matrix\n",
      "[[ 7  7]\n",
      " [ 7 24]]\n",
      "KNeighborsClassifier\n",
      "Precision: 0.684\n",
      "Recall: 0.839\n",
      "F1 Score: 0.754\n",
      "Confusion matrix\n",
      "[[ 2 12]\n",
      " [ 5 26]]\n",
      "BernoulliNB\n",
      "Precision: 0.689\n",
      "Recall: 1.000\n",
      "F1 Score: 0.816\n",
      "Confusion matrix\n",
      "[[ 0 14]\n",
      " [ 0 31]]\n"
     ]
    },
    {
     "data": {
      "image/png": "[encoded data removed]",
      "text/plain": [
       "<Figure size 432x288 with 2 Axes>"
      ]
     },
     "metadata": {
      "needs_background": "light"
     },
     "output_type": "display_data"
    },
    {
     "data": {
      "image/png": "[encoded data removed]",
      "text/plain": [
       "<Figure size 432x288 with 2 Axes>"
      ]
     },
     "metadata": {
      "needs_background": "light"
     },
     "output_type": "display_data"
    },
    {
     "data": {
      "image/png": "[encoded data removed]",
      "text/plain": [
       "<Figure size 432x288 with 2 Axes>"
      ]
     },
     "metadata": {
      "needs_background": "light"
     },
     "output_type": "display_data"
    },
    {
     "data": {
      "image/png": "[encoded data removed]",
      "text/plain": [
       "<Figure size 432x288 with 2 Axes>"
      ]
     },
     "metadata": {
      "needs_background": "light"
     },
     "output_type": "display_data"
    },
    {
     "data": {
      "image/png": "[encoded data removed]",
      "text/plain": [
       "<Figure size 432x288 with 2 Axes>"
      ]
     },
     "metadata": {
      "needs_background": "light"
     },
     "output_type": "display_data"
    },
    {
     "data": {
      "image/png": "[encoded data removed]",
      "text/plain": [
       "<Figure size 432x288 with 2 Axes>"
      ]
     },
     "metadata": {
      "needs_background": "light"
     },
     "output_type": "display_data"
    }
   ],
   "source": [
    "over = SMOTE(sampling_strategy=0.6)\n",
    "stepsArray = []\n",
    "pipelineArray = []\n",
    "for i in range(len(modelArray)):\n",
    "    stepsArray.append([ ('o',over),('m', modelArray[i])])\n",
    "    \n",
    "for j in range(len(stepsArray)):\n",
    "    pipelineArray.append(Pipeline(steps=stepsArray[j]))\n",
    "\n",
    "for i in range(len(scoreArray)):\n",
    "    #oversampling ve Decision Tree yöntemi sonucu oluşan cross_val_predict confisuon matrix\n",
    "    y_pred = cross_val_predict(pipelineArray[i], testX, testy, cv=cv)\n",
    "    precision = precision_score(testy, y_pred)\n",
    "    print(modelLabelArray[i])\n",
    "    print('Precision: %.3f' % precision)\n",
    "    recall = recall_score(testy, y_pred)\n",
    "    print('Recall: %.3f' % recall)\n",
    "    f1=f1_score(testy,y_pred)\n",
    "    print('F1 Score: %.3f' % f1)\n",
    "\n",
    "\n",
    "    cm = confusion_matrix(testy, y_pred)\n",
    "    np.set_printoptions(precision=2)\n",
    "    print('Confusion matrix')\n",
    "    print(cm)\n",
    "    plt.figure()\n",
    "    class_names = ['Healthy', 'Patient']\n",
    "    plot_confusion_matrix(cm, class_names, title=modelLabelArray[i] + ' - Confusion matrix')\n",
    "\n",
    "\n"
   ]
  },
  {
   "cell_type": "code",
   "execution_count": null,
   "metadata": {},
   "outputs": [],
   "source": []
  }
 ],
 "metadata": {
  "kernelspec": {
   "display_name": "Python 3",
   "language": "python",
   "name": "python3"
  },
  "language_info": {
   "codemirror_mode": {
    "name": "ipython",
    "version": 3
   },
   "file_extension": ".py",
   "mimetype": "text/x-python",
   "name": "python",
   "nbconvert_exporter": "python",
   "pygments_lexer": "ipython3",
   "version": "3.8.2"
  }
 },
 "nbformat": 4,
 "nbformat_minor": 4
}

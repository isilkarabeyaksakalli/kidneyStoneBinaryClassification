{
 "cells": [
  {
   "cell_type": "code",
   "execution_count": 192,
   "metadata": {},
   "outputs": [],
   "source": [
    "# Binary Classification \n",
    "import numpy as np\n",
    "import pandas as pd\n",
    "import itertools\n",
    "import matplotlib.pyplot as plt\n",
    "\n",
    "from keras.models import Sequential\n",
    "from keras.wrappers.scikit_learn import KerasClassifier\n",
    "from sklearn import svm\n",
    "from sklearn.neural_network import MLPClassifier\n",
    "from sklearn.model_selection import cross_val_score, cross_val_predict, StratifiedKFold, GridSearchCV, RepeatedStratifiedKFold\n",
    "from sklearn import preprocessing\n",
    "from sklearn.metrics import accuracy_score, precision_score, recall_score, f1_score, confusion_matrix\n",
    "\n",
    "from keras.optimizers import RMSprop,Adam\n",
    "from keras.layers import Dense, Dropout, Activation\n",
    "from keras.utils import np_utils\n",
    "\n",
    "from visual_callbacks import AccLossPlotter,  ConfusionMatrixPlotter\n",
    "from numpy import mean\n",
    "from sklearn.datasets import make_classification\n",
    "from sklearn.naive_bayes import BernoulliNB\n",
    "from sklearn.neighbors import KNeighborsClassifier\n",
    "from sklearn.tree import DecisionTreeClassifier\n",
    "from sklearn.ensemble import RandomForestClassifier\n",
    "from imblearn.combine import SMOTETomek\n",
    "from imblearn.pipeline import Pipeline\n",
    "from imblearn.over_sampling import RandomOverSampler, SMOTE\n",
    "from imblearn.under_sampling import RandomUnderSampler, TomekLinks, NeighbourhoodCleaningRule, OneSidedSelection"
   ]
  },
  {
   "cell_type": "code",
   "execution_count": 193,
   "metadata": {},
   "outputs": [],
   "source": [
    "#plot confisuon matrix metodu\n",
    "def plot_confusion_matrix(cm, names,normalize=False, title='Confusion matrix', cmap=plt.cm.Blues):\n",
    "    plt.imshow(cm, interpolation='nearest', cmap=cmap)\n",
    "    plt.title(title)\n",
    "    plt.colorbar()\n",
    "    tick_marks = np.arange(len(names))\n",
    "    plt.xticks(tick_marks, names, rotation=45)\n",
    "    plt.yticks(tick_marks, names)\n",
    "    \n",
    "    fmt = '.2f' if normalize else 'd'\n",
    "    thresh = cm.max() / 2.\n",
    "    for i, j in itertools.product(range(cm.shape[0]), range(cm.shape[1])):\n",
    "        plt.text(j, i, format(cm[i, j], fmt),\n",
    "                 horizontalalignment=\"center\",\n",
    "                 color=\"white\" if cm[i, j] > thresh else \"black\")\n",
    "    \n",
    "    plt.tight_layout()\n",
    "    plt.ylabel('True label')\n",
    "    plt.xlabel('Predicted label')"
   ]
  },
  {
   "cell_type": "code",
   "execution_count": 194,
   "metadata": {},
   "outputs": [],
   "source": [
    "# load dataset\n",
    "dataframe = pd.read_csv(\"KidneyStoneDataset.csv\", header=None)\n",
    "dataset = dataframe.values\n",
    "# split into input (X) and output (Y) variables\n",
    "X = dataset[:,0:5120]\n",
    "Y = dataset[:,5120]\n",
    "#verileri normalize etmesem de sonuç değişmiyor\n",
    "normalized_X = preprocessing.normalize(X) "
   ]
  },
  {
   "cell_type": "code",
   "execution_count": 195,
   "metadata": {},
   "outputs": [
    {
     "name": "stdout",
     "output_type": "stream",
     "text": [
      "[[7.13e-04 1.07e-03 1.19e-03 ... 1.45e-02 1.60e-02 1.27e-02]\n",
      " [7.80e-04 7.80e-04 7.80e-04 ... 1.34e-03 5.57e-04 2.23e-04]\n",
      " [4.57e-04 3.48e-03 9.69e-03 ... 9.15e-05 9.15e-05 0.00e+00]\n",
      " ...\n",
      " [1.10e-02 1.14e-02 1.61e-02 ... 6.32e-03 6.65e-03 8.60e-03]\n",
      " [3.76e-03 4.77e-03 5.21e-03 ... 7.67e-03 6.37e-03 5.35e-03]\n",
      " [1.16e-02 4.15e-03 2.08e-03 ... 1.77e-02 1.78e-02 1.80e-02]]\n",
      "[0 0 0 0 0 0 0 0 0 0 0 0 0 0 0 0 0 0 0 0 0 0 0 0 0 0 0 0 0 0 0 0 0 0 0 0 0\n",
      " 0 0 1 1 1 1 1 1 1 1 1 1 1 1 1 1 1 1 1 1 1 1 1 1 1 1 1 1 1 1 1 1 1 1 1 1 1\n",
      " 1 1 1 1 1 1 1 1 1 1 1 1 1 1 1 1 1 1 1 1 1 1 1 1 1 1 1 1 1 1 1 1 1 1 1 1 1\n",
      " 1 1 1 1 1 1 1 1 1 1 1 1 1 1 1 1 1 1 1 1 1 1 1 1 1 1 1 1 1 1 1 1 1 1 1 1 1\n",
      " 1 1 1 1 1 1 1 1 1 1 1 1 1 1 1 1 1 1 1 1 1 1 1 1 1 1 1 1 1 1 1 1 1 1 1 1 1\n",
      " 1 1 1 1 1 1 1 1 1 1 1 1 1 1 1 1 1 1 1 1 1 1 1 1 1 1 1 1 1 1 1 1 1 1 1 1]\n"
     ]
    }
   ],
   "source": [
    "print(normalized_X)\n",
    "print(Y)"
   ]
  },
  {
   "cell_type": "code",
   "execution_count": 196,
   "metadata": {},
   "outputs": [
    {
     "data": {
      "text/plain": [
       "221"
      ]
     },
     "execution_count": 196,
     "metadata": {},
     "output_type": "execute_result"
    }
   ],
   "source": [
    "len(X)"
   ]
  },
  {
   "cell_type": "markdown",
   "metadata": {},
   "source": [
    "Verisetinde 221 adet veri bulunmaktadır. Bunlardan 39 tanesi sağlıklı (0 etiketi), 182 tanesi ise hasta (1 etiketi) olarak belirlenmiştir."
   ]
  },
  {
   "cell_type": "code",
   "execution_count": 204,
   "metadata": {},
   "outputs": [],
   "source": [
    "X = np.array(normalized_X) \n",
    "y = np.array(Y)"
   ]
  },
  {
   "cell_type": "code",
   "execution_count": 205,
   "metadata": {},
   "outputs": [],
   "source": [
    "#undersampling-oversampling işlemleri\n",
    "#over = SMOTE(sampling_strategy=0.3)\n",
    "#under = RandomUnderSampler(sampling_strategy=0.6)\n",
    "over=SMOTETomek(tomek=TomekLinks(sampling_strategy='majority'))"
   ]
  },
  {
   "cell_type": "code",
   "execution_count": 206,
   "metadata": {},
   "outputs": [],
   "source": [
    "#gridsearch for decision tree\n",
    "def dtree_grid_search(X,y,nfolds):\n",
    "    #create a dictionary of all values we want to test\n",
    "    #for decision tree\n",
    "    #param_grid = { 'criterion':['gini','entropy'],'max_depth': np.arange(3, 15)} \n",
    "    \n",
    "    #for RANDOM FOREST\n",
    "    #param_grid = {'n_estimators': [200, 500], 'max_features': ['auto', 'sqrt', 'log2'], \n",
    "    #              'max_depth': [4, 5, 6, 7, 8], 'criterion': ['gini', 'entropy']}\n",
    "    \n",
    "    \n",
    "    #FOR SVC\n",
    "    #param_grid = {'C': [0.1, 1, 10, 100, 1000],  \n",
    "    #          'gamma': [1, 0.1, 0.01, 0.001, 0.0001], \n",
    "     #        'kernel': ['rbf']}  \n",
    "    \n",
    "    #FOR MLPClassifier\n",
    "    #param_grid={'solver': ['sgd','adam','lbfgs'],'max_iter': [300,500,700,1000],\n",
    "    #'alpha': [0.0001, 0.05],\n",
    "    #'learning_rate': ['constant','adaptive']}\n",
    " \n",
    "    #knn\n",
    "    #param_grid = {'n_neighbors': [1, 2, 3, 4, 5, 6, 7, 8, 9, 10, 11, 12,\n",
    "     #                                    13, 14, 15, 16, 17, 18, 19, 20, 21, 22,\n",
    "      #                                   23, 24, 25, 26, 27, 28, 29, 30]}\n",
    "   #bayes\n",
    "    #param_grid = {'alpha': [0.01, 0.1, 0.5, 1.0, 10.0],\n",
    "     #    }\n",
    "   # decision tree model\n",
    "   # dtree_model=DecisionTreeClassifier()\n",
    "    #dtree_model=RandomForestClassifier()\n",
    "    #dtree_model=svm.SVC()\n",
    "    #dtree_model=MLPClassifier()\n",
    "    #dtree_model=KNeighborsClassifier()\n",
    "    #dtree_model=BernoulliNB()\n",
    "    #use gridsearch to test all values\n",
    "    dtree_gscv = GridSearchCV(dtree_model, param_grid, cv=nfolds)\n",
    "    #fit model to data\n",
    "    dtree_gscv.fit(X, y)\n",
    "    return dtree_gscv.best_params_"
   ]
  },
  {
   "cell_type": "code",
   "execution_count": 207,
   "metadata": {},
   "outputs": [],
   "source": [
    "#print(dtree_grid_search(X,y,5))"
   ]
  },
  {
   "cell_type": "code",
   "execution_count": 208,
   "metadata": {},
   "outputs": [],
   "source": [
    "#kullanılan algoritmalar ve cv yöntemi\n",
    "model=DecisionTreeClassifier(criterion='gini',max_depth=3)\n",
    "#model=RandomForestClassifier(criterion= 'entropy', max_depth= 4, max_features= 'log2', n_estimators= 200)\n",
    "#model=svm.SVC(C=0.1, gamma=1, kernel='rbf')\n",
    "#model=MLPClassifier(random_state=1, max_iter=300)\n",
    "#model=KNeighborsClassifier(n_neighbors= 16)\n",
    "#model=BernoulliNB(alpha= 10.0)\n",
    "steps = [ ('o',over),('m', model)] \n",
    "pipeline = Pipeline(steps=steps)\n",
    "# evaluate pipeline\n",
    "n_splits=5\n",
    "#cv = RepeatedStratifiedKFold(n_splits=5, n_repeats=3, random_state=100)\n",
    "cv = StratifiedKFold(n_splits=n_splits,random_state=None,shuffle=True)"
   ]
  },
  {
   "cell_type": "code",
   "execution_count": 209,
   "metadata": {},
   "outputs": [
    {
     "name": "stdout",
     "output_type": "stream",
     "text": [
      "Precision: 0.820\n",
      "Recall: 0.820\n",
      "F1 Score: 0.773\n"
     ]
    }
   ],
   "source": [
    "#Cross validation ile Precision, recall ve f1 score değerlerinin hesaplanması\n",
    "acc = cross_val_score(pipeline, X, y, scoring='precision', cv=cv, n_jobs=-1)\n",
    "acc = mean(acc)\n",
    "print('Precision: %.3f' % acc)\n",
    "recall = cross_val_score(pipeline, X, y, scoring='recall', cv=cv, n_jobs=-1)\n",
    "acc = mean(acc)\n",
    "print('Recall: %.3f' % acc)\n",
    "scores = cross_val_score(pipeline, X, y, scoring='f1', cv=cv, n_jobs=-1)\n",
    "score = mean(scores)\n",
    "print('F1 Score: %.3f' % score)"
   ]
  },
  {
   "cell_type": "code",
   "execution_count": 210,
   "metadata": {
    "scrolled": true
   },
   "outputs": [
    {
     "name": "stdout",
     "output_type": "stream",
     "text": [
      "Precision: 0.808\n",
      "Recall: 0.692\n",
      "F1 Score: 0.746\n",
      "Confusion matrix\n",
      "[[  9  30]\n",
      " [ 56 126]]\n"
     ]
    },
    {
     "data": {
      "image/png": "[encoded data removed]",
      "text/plain": [
       "<Figure size 432x288 with 2 Axes>"
      ]
     },
     "metadata": {
      "needs_background": "light"
     },
     "output_type": "display_data"
    }
   ],
   "source": [
    "#oversampling ve Decision Tree yöntemi sonucu oluşan cross_val_predict confisuon matrix\n",
    "y_pred = cross_val_predict(pipeline, X, y, cv=cv)\n",
    "precision = precision_score(y, y_pred)\n",
    "print('Precision: %.3f' % precision)\n",
    "recall = recall_score(y, y_pred)\n",
    "print('Recall: %.3f' % recall)\n",
    "f1=f1_score(y,y_pred)\n",
    "print('F1 Score: %.3f' % f1)\n",
    "\n",
    "\n",
    "cm = confusion_matrix(y, y_pred)\n",
    "np.set_printoptions(precision=2)\n",
    "print('Confusion matrix')\n",
    "print(cm)\n",
    "plt.figure()\n",
    "class_names = ['Healthy', 'Patient']\n",
    "plot_confusion_matrix(cm, class_names)"
   ]
  },
  {
   "cell_type": "code",
   "execution_count": null,
   "metadata": {},
   "outputs": [],
   "source": []
  }
 ],
 "metadata": {
  "kernelspec": {
   "display_name": "Python 3",
   "language": "python",
   "name": "python3"
  },
  "language_info": {
   "codemirror_mode": {
    "name": "ipython",
    "version": 3
   },
   "file_extension": ".py",
   "mimetype": "text/x-python",
   "name": "python",
   "nbconvert_exporter": "python",
   "pygments_lexer": "ipython3",
   "version": "3.8.3"
  }
 },
 "nbformat": 4,
 "nbformat_minor": 4
}

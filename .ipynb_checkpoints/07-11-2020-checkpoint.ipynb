{
 "cells": [
  {
   "cell_type": "code",
   "execution_count": 435,
   "metadata": {},
   "outputs": [],
   "source": [
    "#Source: https://github.com/tensorflow/docs/blob/master/site/en/tutorials/load_data/images.ipynb\n",
    "#https://www.tensorflow.org/tutorials/images/classification?hl=en\n",
    "import numpy as np\n",
    "import os\n",
    "import PIL\n",
    "import PIL.Image\n",
    "import matplotlib.pyplot as plt\n",
    "import pandas as pd\n",
    "\n",
    "\n",
    "import sys\n",
    "from PIL import Image\n",
    "sys.modules['Image'] = Image \n",
    "\n",
    "import tensorflow as tf\n",
    "\n",
    "from tensorflow import keras\n",
    "from tensorflow.keras import layers\n",
    "from tensorflow.keras.models import Sequential\n",
    "from keras.preprocessing.image import ImageDataGenerator, array_to_img, img_to_array\n",
    "\n",
    "import pathlib"
   ]
  },
  {
   "cell_type": "code",
   "execution_count": 436,
   "metadata": {},
   "outputs": [
    {
     "data": {
      "text/plain": [
       "'2.3.1'"
      ]
     },
     "execution_count": 436,
     "metadata": {},
     "output_type": "execute_result"
    }
   ],
   "source": [
    "tf.__version__"
   ]
  },
  {
   "cell_type": "code",
   "execution_count": 437,
   "metadata": {},
   "outputs": [],
   "source": [
    "# Get current path\n",
    "ROOT_PATH = os.path.abspath('')"
   ]
  },
  {
   "cell_type": "code",
   "execution_count": 457,
   "metadata": {},
   "outputs": [
    {
     "data": {
      "text/plain": [
       "WindowsPath('D:/keras/train')"
      ]
     },
     "execution_count": 457,
     "metadata": {},
     "output_type": "execute_result"
    }
   ],
   "source": [
    "train_dir = pathlib.Path(ROOT_PATH).joinpath(\"train/\")\n",
    "train_dir"
   ]
  },
  {
   "cell_type": "code",
   "execution_count": 458,
   "metadata": {},
   "outputs": [
    {
     "name": "stdout",
     "output_type": "stream",
     "text": [
      "208\n"
     ]
    }
   ],
   "source": [
    "image_count = len(list(train_dir.glob('*/*.jpg')))\n",
    "print(image_count)"
   ]
  },
  {
   "cell_type": "code",
   "execution_count": 459,
   "metadata": {},
   "outputs": [
    {
     "data": {
      "image/png": "[encoded data removed]",
      "text/plain": [
       "<PIL.JpegImagePlugin.JpegImageFile image mode=RGB size=64x80 at 0x2BE8F056550>"
      ]
     },
     "execution_count": 459,
     "metadata": {},
     "output_type": "execute_result"
    }
   ],
   "source": [
    "healthy = list(train_dir.glob('healthy/*'))\n",
    "PIL.Image.open(str(healthy[0]))"
   ]
  },
  {
   "cell_type": "code",
   "execution_count": 460,
   "metadata": {},
   "outputs": [
    {
     "data": {
      "image/png": "[encoded data removed]",
      "text/plain": [
       "<PIL.JpegImagePlugin.JpegImageFile image mode=L size=64x80 at 0x2BE9AD9DD60>"
      ]
     },
     "execution_count": 460,
     "metadata": {},
     "output_type": "execute_result"
    }
   ],
   "source": [
    "patients = list(train_dir.glob('patient/*'))\n",
    "PIL.Image.open(str(patients[1]))"
   ]
  },
  {
   "cell_type": "code",
   "execution_count": 461,
   "metadata": {},
   "outputs": [
    {
     "data": {
      "text/plain": [
       "WindowsPath('D:/keras/test')"
      ]
     },
     "execution_count": 461,
     "metadata": {},
     "output_type": "execute_result"
    }
   ],
   "source": [
    "test_dir = pathlib.Path(ROOT_PATH).joinpath(\"test/\")\n",
    "test_dir"
   ]
  },
  {
   "cell_type": "code",
   "execution_count": 462,
   "metadata": {},
   "outputs": [
    {
     "data": {
      "image/png": "[encoded data removed]",
      "text/plain": [
       "<PIL.JpegImagePlugin.JpegImageFile image mode=L size=64x80 at 0x2BE89724C40>"
      ]
     },
     "execution_count": 462,
     "metadata": {},
     "output_type": "execute_result"
    }
   ],
   "source": [
    "test_healthy=list(test_dir.glob('healthy/*'))\n",
    "PIL.Image.open(str(test_healthy[0]))"
   ]
  },
  {
   "cell_type": "code",
   "execution_count": 463,
   "metadata": {},
   "outputs": [
    {
     "data": {
      "image/png": "[encoded data removed]",
      "text/plain": [
       "<PIL.JpegImagePlugin.JpegImageFile image mode=RGB size=64x80 at 0x2BE972BF6D0>"
      ]
     },
     "execution_count": 463,
     "metadata": {},
     "output_type": "execute_result"
    }
   ],
   "source": [
    "test_patients = list(test_dir.glob('patient/*'))\n",
    "PIL.Image.open(str(test_patients[1]))"
   ]
  },
  {
   "cell_type": "code",
   "execution_count": 464,
   "metadata": {},
   "outputs": [],
   "source": [
    "batch_size = 32\n",
    "img_height = 80\n",
    "img_width = 64"
   ]
  },
  {
   "cell_type": "code",
   "execution_count": 465,
   "metadata": {},
   "outputs": [
    {
     "name": "stdout",
     "output_type": "stream",
     "text": [
      "Found 167 images belonging to 2 classes.\n",
      "Found 41 images belonging to 2 classes.\n",
      "Found 15 images belonging to 2 classes.\n"
     ]
    }
   ],
   "source": [
    "train_datagen = ImageDataGenerator(rescale=1./255,\n",
    "    shear_range=0.2,\n",
    "    zoom_range=0.2,\n",
    "    horizontal_flip=True,\n",
    "    validation_split=0.2) # set validation split\n",
    "\n",
    "test_datagen=ImageDataGenerator(rescale=1./255)\n",
    "\n",
    "train_generator = train_datagen.flow_from_directory(\n",
    "    train_dir,\n",
    "    target_size=(img_height, img_width),\n",
    "    batch_size=batch_size,\n",
    "    class_mode='binary',\n",
    "    subset='training',\n",
    "    shuffle=True,\n",
    "    seed=42) # set as training data\n",
    "\n",
    "validation_generator = train_datagen.flow_from_directory(\n",
    "    train_dir, # same directory as training data\n",
    "    target_size=(img_height, img_width),\n",
    "    batch_size=batch_size,\n",
    "    class_mode='binary',\n",
    "    subset='validation') # set as validation data\n",
    "\n",
    "test_generator = test_datagen.flow_from_directory(\n",
    "    test_dir,\n",
    "    target_size=(img_height, img_width),\n",
    "    batch_size=1,\n",
    "    class_mode='binary',\n",
    "    shuffle=True) # set as test data\n",
    "\n"
   ]
  },
  {
   "cell_type": "code",
   "execution_count": 447,
   "metadata": {},
   "outputs": [],
   "source": [
    "# TEST DIR'DA healthy ve patient diye ayrılmalı"
   ]
  },
  {
   "cell_type": "code",
   "execution_count": 470,
   "metadata": {},
   "outputs": [],
   "source": [
    "model = Sequential()\n",
    "model.add(Conv2D(32, (3, 3), padding='same'))\n",
    "model.add(Activation('relu'))\n",
    "model.add(Conv2D(32, (3, 3)))\n",
    "model.add(Activation('relu'))\n",
    "model.add(MaxPooling2D(pool_size=(2, 2)))\n",
    "model.add(Dropout(0.25))\n",
    "model.add(Conv2D(64, (3, 3), padding='same'))\n",
    "model.add(Activation('relu'))\n",
    "model.add(Conv2D(64, (3, 3)))\n",
    "model.add(Activation('relu'))\n",
    "model.add(MaxPooling2D(pool_size=(2, 2)))\n",
    "model.add(Dropout(0.25))\n",
    "model.add(Flatten())\n",
    "model.add(Dense(128))\n",
    "model.add(Activation('relu'))\n",
    "model.add(Dropout(0.5))\n",
    "model.add(Dense(1, activation='sigmoid'))\n",
    "model.compile(optimizer='rmsprop',loss=\"binary_crossentropy\",metrics=[\"accuracy\"])"
   ]
  },
  {
   "cell_type": "code",
   "execution_count": 471,
   "metadata": {
    "scrolled": true
   },
   "outputs": [
    {
     "name": "stdout",
     "output_type": "stream",
     "text": [
      "Epoch 1/50\n",
      "5/5 [==============================] - 2s 376ms/step - loss: 0.9646 - accuracy: 0.7250 - val_loss: 0.3560 - val_accuracy: 0.9062\n",
      "Epoch 2/50\n",
      "5/5 [==============================] - 1s 253ms/step - loss: 0.5964 - accuracy: 0.8074 - val_loss: 0.4953 - val_accuracy: 0.8125\n",
      "Epoch 3/50\n",
      "5/5 [==============================] - 1s 295ms/step - loss: 0.4752 - accuracy: 0.8250 - val_loss: 0.4070 - val_accuracy: 0.8750\n",
      "Epoch 4/50\n",
      "5/5 [==============================] - 2s 301ms/step - loss: 0.5349 - accuracy: 0.8222 - val_loss: 0.4894 - val_accuracy: 0.8125\n",
      "Epoch 5/50\n",
      "5/5 [==============================] - 1s 294ms/step - loss: 0.4740 - accuracy: 0.8313 - val_loss: 0.4684 - val_accuracy: 0.8438\n",
      "Epoch 6/50\n",
      "5/5 [==============================] - 1s 260ms/step - loss: 0.4945 - accuracy: 0.8444 - val_loss: 0.4658 - val_accuracy: 0.8438\n",
      "Epoch 7/50\n",
      "5/5 [==============================] - 1s 259ms/step - loss: 0.9073 - accuracy: 0.8296 - val_loss: 0.4952 - val_accuracy: 0.8125\n",
      "Epoch 8/50\n",
      "5/5 [==============================] - 1s 255ms/step - loss: 0.4623 - accuracy: 0.8370 - val_loss: 0.4405 - val_accuracy: 0.8438\n",
      "Epoch 9/50\n",
      "5/5 [==============================] - 1s 256ms/step - loss: 0.4714 - accuracy: 0.8296 - val_loss: 0.3770 - val_accuracy: 0.9062\n",
      "Epoch 10/50\n",
      "5/5 [==============================] - 1s 267ms/step - loss: 0.4923 - accuracy: 0.8370 - val_loss: 0.4893 - val_accuracy: 0.8125\n",
      "Epoch 11/50\n",
      "5/5 [==============================] - 1s 283ms/step - loss: 0.4832 - accuracy: 0.8370 - val_loss: 0.5249 - val_accuracy: 0.8438\n",
      "Epoch 12/50\n",
      "5/5 [==============================] - 1s 254ms/step - loss: 0.4589 - accuracy: 0.8519 - val_loss: 0.5255 - val_accuracy: 0.8750\n",
      "Epoch 13/50\n",
      "5/5 [==============================] - 2s 311ms/step - loss: 0.4999 - accuracy: 0.8313 - val_loss: 0.4292 - val_accuracy: 0.8438\n",
      "Epoch 14/50\n",
      "5/5 [==============================] - 1s 270ms/step - loss: 0.4309 - accuracy: 0.8593 - val_loss: 0.4497 - val_accuracy: 0.8438\n",
      "Epoch 15/50\n",
      "5/5 [==============================] - 1s 253ms/step - loss: 0.4890 - accuracy: 0.8296 - val_loss: 0.4985 - val_accuracy: 0.8125\n",
      "Epoch 16/50\n",
      "5/5 [==============================] - 1s 252ms/step - loss: 0.4969 - accuracy: 0.8222 - val_loss: 0.4849 - val_accuracy: 0.8125\n",
      "Epoch 17/50\n",
      "5/5 [==============================] - 2s 303ms/step - loss: 0.4976 - accuracy: 0.8222 - val_loss: 0.5313 - val_accuracy: 0.8125\n",
      "Epoch 18/50\n",
      "5/5 [==============================] - 1s 264ms/step - loss: 0.4715 - accuracy: 0.8296 - val_loss: 0.5210 - val_accuracy: 0.7812\n",
      "Epoch 19/50\n",
      "5/5 [==============================] - 1s 257ms/step - loss: 0.4589 - accuracy: 0.8370 - val_loss: 0.4446 - val_accuracy: 0.8438\n",
      "Epoch 20/50\n",
      "5/5 [==============================] - 1s 256ms/step - loss: 0.4255 - accuracy: 0.8667 - val_loss: 0.4508 - val_accuracy: 0.8438\n",
      "Epoch 21/50\n",
      "5/5 [==============================] - 1s 261ms/step - loss: 0.5301 - accuracy: 0.8148 - val_loss: 0.5399 - val_accuracy: 0.7812\n",
      "Epoch 22/50\n",
      "5/5 [==============================] - 2s 320ms/step - loss: 0.4692 - accuracy: 0.8370 - val_loss: 0.4685 - val_accuracy: 0.8438\n",
      "Epoch 23/50\n",
      "5/5 [==============================] - 1s 264ms/step - loss: 0.4684 - accuracy: 0.8519 - val_loss: 0.3806 - val_accuracy: 0.8750\n",
      "Epoch 24/50\n",
      "5/5 [==============================] - 2s 304ms/step - loss: 0.4812 - accuracy: 0.8313 - val_loss: 0.4505 - val_accuracy: 0.8750\n",
      "Epoch 25/50\n",
      "5/5 [==============================] - 1s 272ms/step - loss: 0.4844 - accuracy: 0.8222 - val_loss: 0.3936 - val_accuracy: 0.8750\n",
      "Epoch 26/50\n",
      "5/5 [==============================] - 2s 324ms/step - loss: 0.4850 - accuracy: 0.8296 - val_loss: 0.4867 - val_accuracy: 0.8125\n",
      "Epoch 27/50\n",
      "5/5 [==============================] - 1s 250ms/step - loss: 0.4727 - accuracy: 0.8296 - val_loss: 0.4734 - val_accuracy: 0.8125\n",
      "Epoch 28/50\n",
      "5/5 [==============================] - 2s 347ms/step - loss: 0.4888 - accuracy: 0.8000 - val_loss: 0.5773 - val_accuracy: 0.8125\n",
      "Epoch 29/50\n",
      "5/5 [==============================] - 1s 275ms/step - loss: 0.5046 - accuracy: 0.8296 - val_loss: 0.4576 - val_accuracy: 0.8438\n",
      "Epoch 30/50\n",
      "5/5 [==============================] - 1s 276ms/step - loss: 0.4951 - accuracy: 0.8074 - val_loss: 0.4509 - val_accuracy: 0.8438\n",
      "Epoch 31/50\n",
      "5/5 [==============================] - 1s 266ms/step - loss: 0.4357 - accuracy: 0.8370 - val_loss: 0.5139 - val_accuracy: 0.7812\n",
      "Epoch 32/50\n",
      "5/5 [==============================] - 1s 262ms/step - loss: 0.5250 - accuracy: 0.8296 - val_loss: 0.4564 - val_accuracy: 0.8438\n",
      "Epoch 33/50\n",
      "5/5 [==============================] - 1s 258ms/step - loss: 0.4766 - accuracy: 0.8370 - val_loss: 0.4680 - val_accuracy: 0.8125\n",
      "Epoch 34/50\n",
      "5/5 [==============================] - 1s 250ms/step - loss: 0.4951 - accuracy: 0.8148 - val_loss: 0.4858 - val_accuracy: 0.8125\n",
      "Epoch 35/50\n",
      "5/5 [==============================] - 1s 257ms/step - loss: 0.4729 - accuracy: 0.8370 - val_loss: 0.3515 - val_accuracy: 0.9062\n",
      "Epoch 36/50\n",
      "5/5 [==============================] - 1s 246ms/step - loss: 0.4323 - accuracy: 0.8444 - val_loss: 0.4538 - val_accuracy: 0.8438\n",
      "Epoch 37/50\n",
      "5/5 [==============================] - 1s 297ms/step - loss: 0.4931 - accuracy: 0.8222 - val_loss: 0.5183 - val_accuracy: 0.7812\n",
      "Epoch 38/50\n",
      "5/5 [==============================] - 1s 264ms/step - loss: 0.5767 - accuracy: 0.8296 - val_loss: 0.4803 - val_accuracy: 0.8125\n",
      "Epoch 39/50\n",
      "5/5 [==============================] - 1s 260ms/step - loss: 0.4860 - accuracy: 0.8148 - val_loss: 0.4457 - val_accuracy: 0.8438\n",
      "Epoch 40/50\n",
      "5/5 [==============================] - 1s 256ms/step - loss: 0.4650 - accuracy: 0.8222 - val_loss: 0.5271 - val_accuracy: 0.8125\n",
      "Epoch 41/50\n",
      "5/5 [==============================] - 1s 271ms/step - loss: 0.4618 - accuracy: 0.8370 - val_loss: 0.4361 - val_accuracy: 0.8438\n",
      "Epoch 42/50\n",
      "5/5 [==============================] - 1s 259ms/step - loss: 0.4664 - accuracy: 0.8296 - val_loss: 0.4492 - val_accuracy: 0.8438\n",
      "Epoch 43/50\n",
      "5/5 [==============================] - 2s 303ms/step - loss: 0.4750 - accuracy: 0.8148 - val_loss: 0.3808 - val_accuracy: 0.8750\n",
      "Epoch 44/50\n",
      "5/5 [==============================] - 2s 332ms/step - loss: 0.4828 - accuracy: 0.8370 - val_loss: 0.4985 - val_accuracy: 0.8125\n",
      "Epoch 45/50\n",
      "5/5 [==============================] - 2s 353ms/step - loss: 0.4535 - accuracy: 0.8438 - val_loss: 0.4405 - val_accuracy: 0.8438\n",
      "Epoch 46/50\n",
      "5/5 [==============================] - 2s 340ms/step - loss: 0.4919 - accuracy: 0.8074 - val_loss: 0.4873 - val_accuracy: 0.8125\n",
      "Epoch 47/50\n",
      "5/5 [==============================] - 1s 283ms/step - loss: 0.4766 - accuracy: 0.8444 - val_loss: 0.4632 - val_accuracy: 0.8125\n",
      "Epoch 48/50\n",
      "5/5 [==============================] - 1s 256ms/step - loss: 0.4406 - accuracy: 0.8444 - val_loss: 0.5122 - val_accuracy: 0.8125\n",
      "Epoch 49/50\n",
      "5/5 [==============================] - 1s 281ms/step - loss: 0.5248 - accuracy: 0.8148 - val_loss: 0.4902 - val_accuracy: 0.8125\n",
      "Epoch 50/50\n",
      "5/5 [==============================] - 1s 264ms/step - loss: 0.4716 - accuracy: 0.8148 - val_loss: 0.4157 - val_accuracy: 0.8438\n"
     ]
    }
   ],
   "source": [
    "epochs=50\n",
    "history=model.fit_generator(\n",
    "    train_generator,\n",
    "    steps_per_epoch = train_generator.samples // batch_size,\n",
    "    validation_data = validation_generator, \n",
    "    validation_steps = validation_generator.samples // batch_size,\n",
    "    epochs = epochs)"
   ]
  },
  {
   "cell_type": "code",
   "execution_count": 472,
   "metadata": {},
   "outputs": [
    {
     "data": {
      "image/png": "[encoded data removed]",
      "text/plain": [
       "<Figure size 576x576 with 2 Axes>"
      ]
     },
     "metadata": {
      "needs_background": "light"
     },
     "output_type": "display_data"
    }
   ],
   "source": [
    "acc = history.history['accuracy']\n",
    "val_acc = history.history['val_accuracy']\n",
    "\n",
    "loss = history.history['loss']\n",
    "val_loss = history.history['val_loss']\n",
    "\n",
    "epochs_range = range(epochs)\n",
    "\n",
    "plt.figure(figsize=(8, 8))\n",
    "plt.subplot(1, 2, 1)\n",
    "plt.plot(epochs_range, acc, label='Training Accuracy')\n",
    "plt.plot(epochs_range, val_acc, label='Validation Accuracy')\n",
    "plt.legend(loc='lower right')\n",
    "plt.title('Training and Validation Accuracy')\n",
    "\n",
    "plt.subplot(1, 2, 2)\n",
    "plt.plot(epochs_range, loss, label='Training Loss')\n",
    "plt.plot(epochs_range, val_loss, label='Validation Loss')\n",
    "plt.legend(loc='upper right')\n",
    "plt.title('Training and Validation Loss')\n",
    "plt.show()"
   ]
  },
  {
   "cell_type": "code",
   "execution_count": 478,
   "metadata": {},
   "outputs": [
    {
     "name": "stdout",
     "output_type": "stream",
     "text": [
      "15/15 [==============================] - 0s 6ms/step\n",
      "The image 0 most likely belongs to healthy with a 100.00 percent confidence.\n",
      "The image 1 most likely belongs to healthy with a 100.00 percent confidence.\n",
      "The image 2 most likely belongs to healthy with a 100.00 percent confidence.\n",
      "The image 3 most likely belongs to healthy with a 100.00 percent confidence.\n",
      "The image 4 most likely belongs to healthy with a 100.00 percent confidence.\n",
      "The image 5 most likely belongs to healthy with a 100.00 percent confidence.\n",
      "The image 6 most likely belongs to healthy with a 100.00 percent confidence.\n",
      "The image 7 most likely belongs to healthy with a 100.00 percent confidence.\n",
      "The image 8 most likely belongs to healthy with a 100.00 percent confidence.\n",
      "The image 9 most likely belongs to healthy with a 100.00 percent confidence.\n",
      "The image 10 most likely belongs to healthy with a 100.00 percent confidence.\n",
      "The image 11 most likely belongs to healthy with a 100.00 percent confidence.\n",
      "The image 12 most likely belongs to healthy with a 100.00 percent confidence.\n",
      "The image 13 most likely belongs to healthy with a 100.00 percent confidence.\n",
      "The image 14 most likely belongs to healthy with a 100.00 percent confidence.\n",
      "Average confidence: 100.0\n"
     ]
    }
   ],
   "source": [
    "test_generator.reset()\n",
    "pred=model.predict_generator(test_generator,verbose=1,steps=len(test_generator))\n",
    "predicted_class_indices=np.argmax(pred,axis=1)\n",
    "labels = (train_generator.class_indices)\n",
    "labels = dict((v,k) for k,v in labels.items())\n",
    "predictions = [labels[k] for k in predicted_class_indices]\n",
    "\n",
    "\n",
    "top=0.0\n",
    "ort=0.0\n",
    "for i in range(len(pred)):\n",
    "    score = tf.nn.softmax(pred[i])\n",
    "    max=100 * np.max(score)\n",
    "    print(\"The image {} most likely belongs to {} with a {:.2f} percent confidence.\"\n",
    "    .format(i,predictions[np.argmax(score)],max )\n",
    "    )\n",
    "    top=top+max\n",
    "ort=top/(len(pred))\n",
    "print(\"Average confidence:\",ort)\n"
   ]
  },
  {
   "cell_type": "code",
   "execution_count": 474,
   "metadata": {},
   "outputs": [
    {
     "name": "stdout",
     "output_type": "stream",
     "text": [
      "                                        file       pr\n",
      "0   healthy\\Saltmisdokuz_resized_resized.jpg  healthy\n",
      "1    healthy\\Saltmisdort_resized_resized.jpg  healthy\n",
      "2      healthy\\Selliyedi_resized_resized.jpg  healthy\n",
      "3        healthy\\Skirkuc_resized_resized.jpg  healthy\n",
      "4     healthy\\Sotuzsekiz_resized_resized.jpg  healthy\n",
      "5         healthy\\Ssekiz_resized_resized.jpg  healthy\n",
      "6     patient\\altmisalti_resized_resized.jpg  healthy\n",
      "7      patient\\altmisbes_resized_resized.jpg  healthy\n",
      "8      patient\\altmisbir_resized_resized.jpg  healthy\n",
      "9    patient\\altmisdokuz_resized_resized.jpg  healthy\n",
      "10    patient\\altmisdort_resized_resized.jpg  healthy\n",
      "11     patient\\altmisiki_resized_resized.jpg  healthy\n",
      "12   patient\\altmissekiz_resized_resized.jpg  healthy\n",
      "13      patient\\altmisuc_resized_resized.jpg  healthy\n",
      "14    patient\\altmisyedi_resized_resized.jpg  healthy\n"
     ]
    }
   ],
   "source": [
    "# Get filenames (set shuffle=false in generator is important)\n",
    "filenames=test_generator.filenames\n",
    "# Data frame\n",
    "results=pd.DataFrame({\"file\":filenames,\"pr\":predictions[np.argmax(score)]})\n",
    "print(results)"
   ]
  },
  {
   "cell_type": "code",
   "execution_count": null,
   "metadata": {},
   "outputs": [],
   "source": []
  },
  {
   "cell_type": "code",
   "execution_count": null,
   "metadata": {},
   "outputs": [],
   "source": []
  }
 ],
 "metadata": {
  "kernelspec": {
   "display_name": "Python 3",
   "language": "python",
   "name": "python3"
  },
  "language_info": {
   "codemirror_mode": {
    "name": "ipython",
    "version": 3
   },
   "file_extension": ".py",
   "mimetype": "text/x-python",
   "name": "python",
   "nbconvert_exporter": "python",
   "pygments_lexer": "ipython3",
   "version": "3.8.3"
  }
 },
 "nbformat": 4,
 "nbformat_minor": 4
}

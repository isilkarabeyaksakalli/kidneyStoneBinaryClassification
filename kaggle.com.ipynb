{
 "cells": [
  {
   "cell_type": "code",
   "execution_count": 13,
   "metadata": {},
   "outputs": [],
   "source": [
    "# This Python 3 environment comes with many helpful analytics libraries installed\n",
    "# It is defined by the kaggle/python docker image: https://github.com/kaggle/docker-python\n",
    "# For example, here's several helpful packages to load in \n",
    "\n",
    "import numpy as np # linear algebra\n",
    "import pandas as pd # data processing, CSV file I/O (e.g. pd.read_csv)\n",
    "\n",
    "# Input data files are available in the \"../input/\" directory.\n",
    "# For example, running this (by clicking run or pressing Shift+Enter) will list the files in the input directory\n",
    "\n",
    "from subprocess import check_output\n",
    "\n",
    "\n",
    "# Any results you write to the current directory are saved as output\n",
    "\n",
    "import os, sys\n",
    "from IPython.display import display\n",
    "from IPython.display import Image as _Imgdis\n",
    "from PIL import Image\n",
    "import numpy as np\n",
    "from time import time\n",
    "from time import sleep"
   ]
  },
  {
   "cell_type": "code",
   "execution_count": 15,
   "metadata": {},
   "outputs": [
    {
     "name": "stdout",
     "output_type": "stream",
     "text": [
      "Working with 83 images\n",
      "Image examples: \n",
      "onyedi_resized.jpg\n"
     ]
    },
    {
     "data": {
      "image/jpeg": "[encoded data removed]",
      "text/plain": [
       "<IPython.core.display.Image object>"
      ]
     },
     "metadata": {
      "image/jpeg": {
       "height": 80,
       "width": 64
      }
     },
     "output_type": "display_data"
    },
    {
     "name": "stdout",
     "output_type": "stream",
     "text": [
      "on_resized.jpg\n"
     ]
    },
    {
     "data": {
      "image/jpeg": "[encoded data removed]",
      "text/plain": [
       "<IPython.core.display.Image object>"
      ]
     },
     "metadata": {
      "image/jpeg": {
       "height": 80,
       "width": 64
      }
     },
     "output_type": "display_data"
    }
   ],
   "source": [
    "folder = \"../keras/grayscale\"\n",
    "\n",
    "onlyfiles = [f for f in os.listdir(folder) if os.path.isfile(os.path.join(folder, f))]\n",
    "\n",
    "print(\"Working with {0} images\".format(len(onlyfiles)))\n",
    "print(\"Image examples: \")\n",
    "\n",
    "for i in range(40, 42):\n",
    "    print(onlyfiles[i])\n",
    "    display(_Imgdis(filename=folder + \"/\" + onlyfiles[i], width=64, height=80))"
   ]
  },
  {
   "cell_type": "code",
   "execution_count": 30,
   "metadata": {},
   "outputs": [
    {
     "name": "stdout",
     "output_type": "stream",
     "text": [
      "Files in train_files: 83\n",
      "All images to array!\n"
     ]
    }
   ],
   "source": [
    "from scipy import ndimage\n",
    "from keras.preprocessing.image import ImageDataGenerator, array_to_img, img_to_array, load_img\n",
    "\n",
    "train_files = []\n",
    "y_train = []\n",
    "i=0\n",
    "for _file in onlyfiles:\n",
    "    train_files.append(_file)\n",
    "    label_in_file = _file.find(\"_\")\n",
    "    y_train.append((_file[0:label_in_file]))\n",
    "    \n",
    "print(\"Files in train_files: %d\" % len(train_files))\n",
    "\n",
    "# Original Dimensions\n",
    "image_width = 64\n",
    "image_height = 80\n",
    "ratio = 4\n",
    "\n",
    "image_width = int(image_width / ratio)\n",
    "image_height = int(image_height / ratio)\n",
    "\n",
    "channels = 3\n",
    "nb_classes = 1\n",
    "\n",
    "dataset = np.ndarray(shape=(len(train_files), channels, image_height, image_width),\n",
    "                     dtype=np.float32)\n",
    "\n",
    "i = 0\n",
    "for _file in train_files:\n",
    "    img = load_img(folder + \"/\" + _file)  # this is a PIL image\n",
    "    img.thumbnail((image_width, image_height))\n",
    "    # Convert to Numpy Array\n",
    "    x = img_to_array(img)  \n",
    "    #x = x.reshape((3, 120, 160))\n",
    "    x = x.reshape((3, 20, 16))\n",
    "    # Normalize\n",
    "    x = (x - 128.0) / 128.0\n",
    "    dataset[i] = x\n",
    "    i += 1\n",
    "    if i % 250 == 0:\n",
    "        print(\"%d images to array\" % i)\n",
    "print(\"All images to array!\")"
   ]
  },
  {
   "cell_type": "code",
   "execution_count": 31,
   "metadata": {},
   "outputs": [
    {
     "name": "stdout",
     "output_type": "stream",
     "text": [
      "Train set size: 66, Val set size: 9, Test set size: 8\n"
     ]
    }
   ],
   "source": [
    "from sklearn.model_selection import train_test_split\n",
    "\n",
    "#Splitting \n",
    "X_train, X_test, y_train, y_test = train_test_split(dataset, y_train, test_size=0.2, random_state=33)\n",
    "X_test, X_val, y_test, y_val = train_test_split(X_test, y_test, test_size=0.5, random_state=33)\n",
    "print(\"Train set size: {0}, Val set size: {1}, Test set size: {2}\".format(len(X_train), len(X_val), len(X_test)))"
   ]
  },
  {
   "cell_type": "code",
   "execution_count": null,
   "metadata": {},
   "outputs": [],
   "source": []
  }
 ],
 "metadata": {
  "kernelspec": {
   "display_name": "Python 3",
   "language": "python",
   "name": "python3"
  },
  "language_info": {
   "codemirror_mode": {
    "name": "ipython",
    "version": 3
   },
   "file_extension": ".py",
   "mimetype": "text/x-python",
   "name": "python",
   "nbconvert_exporter": "python",
   "pygments_lexer": "ipython3",
   "version": "3.8.3"
  }
 },
 "nbformat": 4,
 "nbformat_minor": 4
}
